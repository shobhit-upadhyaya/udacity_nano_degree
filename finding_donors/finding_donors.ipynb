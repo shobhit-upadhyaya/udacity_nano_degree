{
 "cells": [
  {
   "cell_type": "markdown",
   "metadata": {},
   "source": [
    "# Machine Learning Engineer Nanodegree\n",
    "## Supervised Learning\n",
    "## Project: Finding Donors for *CharityML*"
   ]
  },
  {
   "cell_type": "markdown",
   "metadata": {},
   "source": [
    "Welcome to the second project of the Machine Learning Engineer Nanodegree! In this notebook, some template code has already been provided for you, and it will be your job to implement the additional functionality necessary to successfully complete this project. Sections that begin with **'Implementation'** in the header indicate that the following block of code will require additional functionality which you must provide. Instructions will be provided for each section and the specifics of the implementation are marked in the code block with a `'TODO'` statement. Please be sure to read the instructions carefully!\n",
    "\n",
    "In addition to implementing code, there will be questions that you must answer which relate to the project and your implementation. Each section where you will answer a question is preceded by a **'Question X'** header. Carefully read each question and provide thorough answers in the following text boxes that begin with **'Answer:'**. Your project submission will be evaluated based on your answers to each of the questions and the implementation you provide.  \n",
    "\n",
    ">**Note:** Please specify WHICH VERSION OF PYTHON you are using when submitting this notebook. Code and Markdown cells can be executed using the **Shift + Enter** keyboard shortcut. In addition, Markdown cells can be edited by typically double-clicking the cell to enter edit mode."
   ]
  },
  {
   "cell_type": "markdown",
   "metadata": {},
   "source": [
    "## Getting Started\n",
    "\n",
    "In this project, you will employ several supervised algorithms of your choice to accurately model individuals' income using data collected from the 1994 U.S. Census. You will then choose the best candidate algorithm from preliminary results and further optimize this algorithm to best model the data. Your goal with this implementation is to construct a model that accurately predicts whether an individual makes more than $50,000. This sort of task can arise in a non-profit setting, where organizations survive on donations.  Understanding an individual's income can help a non-profit better understand how large of a donation to request, or whether or not they should reach out to begin with.  While it can be difficult to determine an individual's general income bracket directly from public sources, we can (as we will see) infer this value from other publically available features. \n",
    "\n",
    "The dataset for this project originates from the [UCI Machine Learning Repository](https://archive.ics.uci.edu/ml/datasets/Census+Income). The datset was donated by Ron Kohavi and Barry Becker, after being published in the article _\"Scaling Up the Accuracy of Naive-Bayes Classifiers: A Decision-Tree Hybrid\"_. You can find the article by Ron Kohavi [online](https://www.aaai.org/Papers/KDD/1996/KDD96-033.pdf). The data we investigate here consists of small changes to the original dataset, such as removing the `'fnlwgt'` feature and records with missing or ill-formatted entries."
   ]
  },
  {
   "cell_type": "markdown",
   "metadata": {},
   "source": [
    "----\n",
    "## Exploring the Data\n",
    "Run the code cell below to load necessary Python libraries and load the census data. Note that the last column from this dataset, `'income'`, will be our target label (whether an individual makes more than, or at most, $50,000 annually). All other columns are features about each individual in the census database."
   ]
  },
  {
   "cell_type": "code",
   "execution_count": 1,
   "metadata": {},
   "outputs": [
    {
     "data": {
      "text/html": [
       "<div>\n",
       "<style>\n",
       "    .dataframe thead tr:only-child th {\n",
       "        text-align: right;\n",
       "    }\n",
       "\n",
       "    .dataframe thead th {\n",
       "        text-align: left;\n",
       "    }\n",
       "\n",
       "    .dataframe tbody tr th {\n",
       "        vertical-align: top;\n",
       "    }\n",
       "</style>\n",
       "<table border=\"1\" class=\"dataframe\">\n",
       "  <thead>\n",
       "    <tr style=\"text-align: right;\">\n",
       "      <th></th>\n",
       "      <th>age</th>\n",
       "      <th>workclass</th>\n",
       "      <th>education_level</th>\n",
       "      <th>education-num</th>\n",
       "      <th>marital-status</th>\n",
       "      <th>occupation</th>\n",
       "      <th>relationship</th>\n",
       "      <th>race</th>\n",
       "      <th>sex</th>\n",
       "      <th>capital-gain</th>\n",
       "      <th>capital-loss</th>\n",
       "      <th>hours-per-week</th>\n",
       "      <th>native-country</th>\n",
       "      <th>income</th>\n",
       "    </tr>\n",
       "  </thead>\n",
       "  <tbody>\n",
       "    <tr>\n",
       "      <th>0</th>\n",
       "      <td>39</td>\n",
       "      <td>State-gov</td>\n",
       "      <td>Bachelors</td>\n",
       "      <td>13.0</td>\n",
       "      <td>Never-married</td>\n",
       "      <td>Adm-clerical</td>\n",
       "      <td>Not-in-family</td>\n",
       "      <td>White</td>\n",
       "      <td>Male</td>\n",
       "      <td>2174.0</td>\n",
       "      <td>0.0</td>\n",
       "      <td>40.0</td>\n",
       "      <td>United-States</td>\n",
       "      <td>&lt;=50K</td>\n",
       "    </tr>\n",
       "  </tbody>\n",
       "</table>\n",
       "</div>"
      ],
      "text/plain": [
       "   age   workclass education_level  education-num  marital-status  \\\n",
       "0   39   State-gov       Bachelors           13.0   Never-married   \n",
       "\n",
       "      occupation    relationship    race    sex  capital-gain  capital-loss  \\\n",
       "0   Adm-clerical   Not-in-family   White   Male        2174.0           0.0   \n",
       "\n",
       "   hours-per-week  native-country income  \n",
       "0            40.0   United-States  <=50K  "
      ]
     },
     "metadata": {},
     "output_type": "display_data"
    }
   ],
   "source": [
    "# Import libraries necessary for this project\n",
    "import numpy as np\n",
    "import pandas as pd\n",
    "from time import time\n",
    "from IPython.display import display # Allows the use of display() for DataFrames\n",
    "\n",
    "# Import supplementary visualization code visuals.py\n",
    "import visuals as vs\n",
    "\n",
    "# Pretty display for notebooks\n",
    "%matplotlib inline\n",
    "\n",
    "# Load the Census dataset\n",
    "data = pd.read_csv(\"census.csv\")\n",
    "\n",
    "# Success - Display the first record\n",
    "display(data.head(n=1))"
   ]
  },
  {
   "cell_type": "code",
   "execution_count": 2,
   "metadata": {},
   "outputs": [
    {
     "data": {
      "text/plain": [
       "age                0\n",
       "workclass          0\n",
       "education_level    0\n",
       "education-num      0\n",
       "marital-status     0\n",
       "occupation         0\n",
       "relationship       0\n",
       "race               0\n",
       "sex                0\n",
       "capital-gain       0\n",
       "capital-loss       0\n",
       "hours-per-week     0\n",
       "native-country     0\n",
       "income             0\n",
       "dtype: int64"
      ]
     },
     "execution_count": 2,
     "metadata": {},
     "output_type": "execute_result"
    }
   ],
   "source": [
    "data.isnull().sum()"
   ]
  },
  {
   "cell_type": "markdown",
   "metadata": {},
   "source": [
    "### Implementation: Data Exploration\n",
    "A cursory investigation of the dataset will determine how many individuals fit into either group, and will tell us about the percentage of these individuals making more than \\$50,000. In the code cell below, you will need to compute the following:\n",
    "- The total number of records, `'n_records'`\n",
    "- The number of individuals making more than \\$50,000 annually, `'n_greater_50k'`.\n",
    "- The number of individuals making at most \\$50,000 annually, `'n_at_most_50k'`.\n",
    "- The percentage of individuals making more than \\$50,000 annually, `'greater_percent'`.\n",
    "\n",
    "** HINT: ** You may need to look at the table above to understand how the `'income'` entries are formatted. "
   ]
  },
  {
   "cell_type": "code",
   "execution_count": 3,
   "metadata": {},
   "outputs": [
    {
     "name": "stdout",
     "output_type": "stream",
     "text": [
      "14\n",
      "<class 'pandas.core.frame.DataFrame'>\n",
      "RangeIndex: 45222 entries, 0 to 45221\n",
      "Data columns (total 14 columns):\n",
      "age                45222 non-null int64\n",
      "workclass          45222 non-null object\n",
      "education_level    45222 non-null object\n",
      "education-num      45222 non-null float64\n",
      "marital-status     45222 non-null object\n",
      "occupation         45222 non-null object\n",
      "relationship       45222 non-null object\n",
      "race               45222 non-null object\n",
      "sex                45222 non-null object\n",
      "capital-gain       45222 non-null float64\n",
      "capital-loss       45222 non-null float64\n",
      "hours-per-week     45222 non-null float64\n",
      "native-country     45222 non-null object\n",
      "income             45222 non-null object\n",
      "dtypes: float64(4), int64(1), object(9)\n",
      "memory usage: 4.8+ MB\n",
      "None\n"
     ]
    }
   ],
   "source": [
    "print(len(data.columns))\n",
    "\n",
    "print(data.info())"
   ]
  },
  {
   "cell_type": "code",
   "execution_count": 4,
   "metadata": {},
   "outputs": [
    {
     "name": "stdout",
     "output_type": "stream",
     "text": [
      "<=50K    34014\n",
      ">50K     11208\n",
      "Name: income, dtype: int64\n",
      "0.247843969749\n",
      "0.752156030251\n"
     ]
    }
   ],
   "source": [
    "print(data['income'].value_counts())\n",
    "print(data['income'].value_counts().loc[\">50K\"]/len(data))\n",
    "print(data['income'].value_counts().loc[\"<=50K\"]/len(data))\n"
   ]
  },
  {
   "cell_type": "code",
   "execution_count": 5,
   "metadata": {},
   "outputs": [
    {
     "name": "stdout",
     "output_type": "stream",
     "text": [
      "Total number of records: 45222\n",
      "Individuals making more than $50,000: 11208\n",
      "Individuals making at most $50,000: 34014\n",
      "Percentage of individuals making more than $50,000: 24.78%\n"
     ]
    }
   ],
   "source": [
    "# TODO: Total number of records\n",
    "n_records = len(data)\n",
    "\n",
    "# TODO: Number of records where individual's income is more than $50,000\n",
    "n_greater_50k = data['income'].value_counts().loc[\">50K\"]\n",
    "\n",
    "# TODO: Number of records where individual's income is at most $50,000\n",
    "n_at_most_50k = data['income'].value_counts().loc[\"<=50K\"]\n",
    "\n",
    "# TODO: Percentage of individuals whose income is more than $50,000\n",
    "greater_percent = (n_greater_50k/n_records)*100\n",
    "\n",
    "# Print the results\n",
    "print (\"Total number of records: {}\".format(n_records))\n",
    "print (\"Individuals making more than $50,000: {}\".format(n_greater_50k))\n",
    "print (\"Individuals making at most $50,000: {}\".format(n_at_most_50k))\n",
    "print (\"Percentage of individuals making more than $50,000: {:.2f}%\".format(greater_percent))"
   ]
  },
  {
   "cell_type": "markdown",
   "metadata": {},
   "source": [
    "** Featureset Exploration **\n",
    "\n",
    "* **age**: continuous. \n",
    "* **workclass**: Private, Self-emp-not-inc, Self-emp-inc, Federal-gov, Local-gov, State-gov, Without-pay, Never-worked. \n",
    "* **education**: Bachelors, Some-college, 11th, HS-grad, Prof-school, Assoc-acdm, Assoc-voc, 9th, 7th-8th, 12th, Masters, 1st-4th, 10th, Doctorate, 5th-6th, Preschool. \n",
    "* **education-num**: continuous. \n",
    "* **marital-status**: Married-civ-spouse, Divorced, Never-married, Separated, Widowed, Married-spouse-absent, Married-AF-spouse. \n",
    "* **occupation**: Tech-support, Craft-repair, Other-service, Sales, Exec-managerial, Prof-specialty, Handlers-cleaners, Machine-op-inspct, Adm-clerical, Farming-fishing, Transport-moving, Priv-house-serv, Protective-serv, Armed-Forces. \n",
    "* **relationship**: Wife, Own-child, Husband, Not-in-family, Other-relative, Unmarried. \n",
    "* **race**: Black, White, Asian-Pac-Islander, Amer-Indian-Eskimo, Other. \n",
    "* **sex**: Female, Male. \n",
    "* **capital-gain**: continuous. \n",
    "* **capital-loss**: continuous. \n",
    "* **hours-per-week**: continuous. \n",
    "* **native-country**: United-States, Cambodia, England, Puerto-Rico, Canada, Germany, Outlying-US(Guam-USVI-etc), India, Japan, Greece, South, China, Cuba, Iran, Honduras, Philippines, Italy, Poland, Jamaica, Vietnam, Mexico, Portugal, Ireland, France, Dominican-Republic, Laos, Ecuador, Taiwan, Haiti, Columbia, Hungary, Guatemala, Nicaragua, Scotland, Thailand, Yugoslavia, El-Salvador, Trinadad&Tobago, Peru, Hong, Holand-Netherlands."
   ]
  },
  {
   "cell_type": "markdown",
   "metadata": {},
   "source": [
    "----\n",
    "## Preparing the Data\n",
    "Before data can be used as input for machine learning algorithms, it often must be cleaned, formatted, and restructured — this is typically known as **preprocessing**. Fortunately, for this dataset, there are no invalid or missing entries we must deal with, however, there are some qualities about certain features that must be adjusted. This preprocessing can help tremendously with the outcome and predictive power of nearly all learning algorithms."
   ]
  },
  {
   "cell_type": "markdown",
   "metadata": {},
   "source": [
    "### Transforming Skewed Continuous Features\n",
    "A dataset may sometimes contain at least one feature whose values tend to lie near a single number, but will also have a non-trivial number of vastly larger or smaller values than that single number.  Algorithms can be sensitive to such distributions of values and can underperform if the range is not properly normalized. With the census dataset two features fit this description: '`capital-gain'` and `'capital-loss'`. \n",
    "\n",
    "Run the code cell below to plot a histogram of these two features. Note the range of the values present and how they are distributed."
   ]
  },
  {
   "cell_type": "code",
   "execution_count": 6,
   "metadata": {},
   "outputs": [
    {
     "data": {
      "image/png": "[encoded data removed]",
      "text/plain": [
       "<matplotlib.figure.Figure at 0x7f3a18112860>"
      ]
     },
     "metadata": {},
     "output_type": "display_data"
    }
   ],
   "source": [
    "# Split the data into features and target label\n",
    "income_raw = data['income']\n",
    "features_raw = data.drop('income', axis = 1)\n",
    "\n",
    "# Visualize skewed continuous features of original data\n",
    "vs.distribution(data)"
   ]
  },
  {
   "cell_type": "markdown",
   "metadata": {},
   "source": [
    "For highly-skewed feature distributions such as `'capital-gain'` and `'capital-loss'`, it is common practice to apply a <a href=\"https://en.wikipedia.org/wiki/Data_transformation_(statistics)\">logarithmic transformation</a> on the data so that the very large and very small values do not negatively affect the performance of a learning algorithm. Using a logarithmic transformation significantly reduces the range of values caused by outliers. Care must be taken when applying this transformation however: The logarithm of `0` is undefined, so we must translate the values by a small amount above `0` to apply the the logarithm successfully.\n",
    "\n",
    "Run the code cell below to perform a transformation on the data and visualize the results. Again, note the range of values and how they are distributed. "
   ]
  },
  {
   "cell_type": "code",
   "execution_count": 7,
   "metadata": {},
   "outputs": [
    {
     "data": {
      "image/png": "[encoded data removed]",
      "text/plain": [
       "<matplotlib.figure.Figure at 0x7f39f8110278>"
      ]
     },
     "metadata": {},
     "output_type": "display_data"
    }
   ],
   "source": [
    "# Log-transform the skewed features\n",
    "skewed = ['capital-gain', 'capital-loss']\n",
    "features_log_transformed = pd.DataFrame(data = features_raw)\n",
    "features_log_transformed[skewed] = features_raw[skewed].apply(lambda x: np.log(x + 1))\n",
    "\n",
    "# Visualize the new log distributions\n",
    "vs.distribution(features_log_transformed, transformed = True)"
   ]
  },
  {
   "cell_type": "markdown",
   "metadata": {},
   "source": [
    "### Normalizing Numerical Features\n",
    "In addition to performing transformations on features that are highly skewed, it is often good practice to perform some type of scaling on numerical features. Applying a scaling to the data does not change the shape of each feature's distribution (such as `'capital-gain'` or `'capital-loss'` above); however, normalization ensures that each feature is treated equally when applying supervised learners. Note that once scaling is applied, observing the data in its raw form will no longer have the same original meaning, as exampled below.\n",
    "\n",
    "Run the code cell below to normalize each numerical feature. We will use [`sklearn.preprocessing.MinMaxScaler`](http://scikit-learn.org/stable/modules/generated/sklearn.preprocessing.MinMaxScaler.html) for this."
   ]
  },
  {
   "cell_type": "code",
   "execution_count": 8,
   "metadata": {},
   "outputs": [
    {
     "data": {
      "text/html": [
       "<div>\n",
       "<style>\n",
       "    .dataframe thead tr:only-child th {\n",
       "        text-align: right;\n",
       "    }\n",
       "\n",
       "    .dataframe thead th {\n",
       "        text-align: left;\n",
       "    }\n",
       "\n",
       "    .dataframe tbody tr th {\n",
       "        vertical-align: top;\n",
       "    }\n",
       "</style>\n",
       "<table border=\"1\" class=\"dataframe\">\n",
       "  <thead>\n",
       "    <tr style=\"text-align: right;\">\n",
       "      <th></th>\n",
       "      <th>age</th>\n",
       "      <th>workclass</th>\n",
       "      <th>education_level</th>\n",
       "      <th>education-num</th>\n",
       "      <th>marital-status</th>\n",
       "      <th>occupation</th>\n",
       "      <th>relationship</th>\n",
       "      <th>race</th>\n",
       "      <th>sex</th>\n",
       "      <th>capital-gain</th>\n",
       "      <th>capital-loss</th>\n",
       "      <th>hours-per-week</th>\n",
       "      <th>native-country</th>\n",
       "    </tr>\n",
       "  </thead>\n",
       "  <tbody>\n",
       "    <tr>\n",
       "      <th>0</th>\n",
       "      <td>0.301370</td>\n",
       "      <td>State-gov</td>\n",
       "      <td>Bachelors</td>\n",
       "      <td>0.800000</td>\n",
       "      <td>Never-married</td>\n",
       "      <td>Adm-clerical</td>\n",
       "      <td>Not-in-family</td>\n",
       "      <td>White</td>\n",
       "      <td>Male</td>\n",
       "      <td>0.667492</td>\n",
       "      <td>0.0</td>\n",
       "      <td>0.397959</td>\n",
       "      <td>United-States</td>\n",
       "    </tr>\n",
       "    <tr>\n",
       "      <th>1</th>\n",
       "      <td>0.452055</td>\n",
       "      <td>Self-emp-not-inc</td>\n",
       "      <td>Bachelors</td>\n",
       "      <td>0.800000</td>\n",
       "      <td>Married-civ-spouse</td>\n",
       "      <td>Exec-managerial</td>\n",
       "      <td>Husband</td>\n",
       "      <td>White</td>\n",
       "      <td>Male</td>\n",
       "      <td>0.000000</td>\n",
       "      <td>0.0</td>\n",
       "      <td>0.122449</td>\n",
       "      <td>United-States</td>\n",
       "    </tr>\n",
       "    <tr>\n",
       "      <th>2</th>\n",
       "      <td>0.287671</td>\n",
       "      <td>Private</td>\n",
       "      <td>HS-grad</td>\n",
       "      <td>0.533333</td>\n",
       "      <td>Divorced</td>\n",
       "      <td>Handlers-cleaners</td>\n",
       "      <td>Not-in-family</td>\n",
       "      <td>White</td>\n",
       "      <td>Male</td>\n",
       "      <td>0.000000</td>\n",
       "      <td>0.0</td>\n",
       "      <td>0.397959</td>\n",
       "      <td>United-States</td>\n",
       "    </tr>\n",
       "    <tr>\n",
       "      <th>3</th>\n",
       "      <td>0.493151</td>\n",
       "      <td>Private</td>\n",
       "      <td>11th</td>\n",
       "      <td>0.400000</td>\n",
       "      <td>Married-civ-spouse</td>\n",
       "      <td>Handlers-cleaners</td>\n",
       "      <td>Husband</td>\n",
       "      <td>Black</td>\n",
       "      <td>Male</td>\n",
       "      <td>0.000000</td>\n",
       "      <td>0.0</td>\n",
       "      <td>0.397959</td>\n",
       "      <td>United-States</td>\n",
       "    </tr>\n",
       "    <tr>\n",
       "      <th>4</th>\n",
       "      <td>0.150685</td>\n",
       "      <td>Private</td>\n",
       "      <td>Bachelors</td>\n",
       "      <td>0.800000</td>\n",
       "      <td>Married-civ-spouse</td>\n",
       "      <td>Prof-specialty</td>\n",
       "      <td>Wife</td>\n",
       "      <td>Black</td>\n",
       "      <td>Female</td>\n",
       "      <td>0.000000</td>\n",
       "      <td>0.0</td>\n",
       "      <td>0.397959</td>\n",
       "      <td>Cuba</td>\n",
       "    </tr>\n",
       "  </tbody>\n",
       "</table>\n",
       "</div>"
      ],
      "text/plain": [
       "        age          workclass education_level  education-num  \\\n",
       "0  0.301370          State-gov       Bachelors       0.800000   \n",
       "1  0.452055   Self-emp-not-inc       Bachelors       0.800000   \n",
       "2  0.287671            Private         HS-grad       0.533333   \n",
       "3  0.493151            Private            11th       0.400000   \n",
       "4  0.150685            Private       Bachelors       0.800000   \n",
       "\n",
       "        marital-status          occupation    relationship    race      sex  \\\n",
       "0        Never-married        Adm-clerical   Not-in-family   White     Male   \n",
       "1   Married-civ-spouse     Exec-managerial         Husband   White     Male   \n",
       "2             Divorced   Handlers-cleaners   Not-in-family   White     Male   \n",
       "3   Married-civ-spouse   Handlers-cleaners         Husband   Black     Male   \n",
       "4   Married-civ-spouse      Prof-specialty            Wife   Black   Female   \n",
       "\n",
       "   capital-gain  capital-loss  hours-per-week  native-country  \n",
       "0      0.667492           0.0        0.397959   United-States  \n",
       "1      0.000000           0.0        0.122449   United-States  \n",
       "2      0.000000           0.0        0.397959   United-States  \n",
       "3      0.000000           0.0        0.397959   United-States  \n",
       "4      0.000000           0.0        0.397959            Cuba  "
      ]
     },
     "metadata": {},
     "output_type": "display_data"
    }
   ],
   "source": [
    "# Import sklearn.preprocessing.StandardScaler\n",
    "from sklearn.preprocessing import MinMaxScaler\n",
    "\n",
    "# Initialize a scaler, then apply it to the features\n",
    "scaler = MinMaxScaler() # default=(0, 1)\n",
    "numerical = ['age', 'education-num', 'capital-gain', 'capital-loss', 'hours-per-week']\n",
    "\n",
    "features_log_minmax_transform = pd.DataFrame(data = features_log_transformed)\n",
    "features_log_minmax_transform[numerical] = scaler.fit_transform(features_log_transformed[numerical])\n",
    "\n",
    "# Show an example of a record with scaling applied\n",
    "display(features_log_minmax_transform.head(n = 5))"
   ]
  },
  {
   "cell_type": "markdown",
   "metadata": {},
   "source": [
    "### Implementation: Data Preprocessing\n",
    "\n",
    "From the table in **Exploring the Data** above, we can see there are several features for each record that are non-numeric. Typically, learning algorithms expect input to be numeric, which requires that non-numeric features (called *categorical variables*) be converted. One popular way to convert categorical variables is by using the **one-hot encoding** scheme. One-hot encoding creates a _\"dummy\"_ variable for each possible category of each non-numeric feature. For example, assume `someFeature` has three possible entries: `A`, `B`, or `C`. We then encode this feature into `someFeature_A`, `someFeature_B` and `someFeature_C`.\n",
    "\n",
    "|   | someFeature |                    | someFeature_A | someFeature_B | someFeature_C |\n",
    "| :-: | :-: |                            | :-: | :-: | :-: |\n",
    "| 0 |  B  |  | 0 | 1 | 0 |\n",
    "| 1 |  C  | ----> one-hot encode ----> | 0 | 0 | 1 |\n",
    "| 2 |  A  |  | 1 | 0 | 0 |\n",
    "\n",
    "Additionally, as with the non-numeric features, we need to convert the non-numeric target label, `'income'` to numerical values for the learning algorithm to work. Since there are only two possible categories for this label (\"<=50K\" and \">50K\"), we can avoid using one-hot encoding and simply encode these two categories as `0` and `1`, respectively. In code cell below, you will need to implement the following:\n",
    " - Use [`pandas.get_dummies()`](http://pandas.pydata.org/pandas-docs/stable/generated/pandas.get_dummies.html?highlight=get_dummies#pandas.get_dummies) to perform one-hot encoding on the `'features_log_minmax_transform'` data.\n",
    " - Convert the target label `'income_raw'` to numerical entries.\n",
    "   - Set records with \"<=50K\" to `0` and records with \">50K\" to `1`."
   ]
  },
  {
   "cell_type": "code",
   "execution_count": null,
   "metadata": {
    "collapsed": true
   },
   "outputs": [],
   "source": []
  },
  {
   "cell_type": "code",
   "execution_count": 9,
   "metadata": {
    "scrolled": true
   },
   "outputs": [
    {
     "name": "stdout",
     "output_type": "stream",
     "text": [
      "103 total features after one-hot encoding.\n",
      "['age', 'education-num', 'capital-gain', 'capital-loss', 'hours-per-week', 'workclass_ Federal-gov', 'workclass_ Local-gov', 'workclass_ Private', 'workclass_ Self-emp-inc', 'workclass_ Self-emp-not-inc', 'workclass_ State-gov', 'workclass_ Without-pay', 'education_level_ 10th', 'education_level_ 11th', 'education_level_ 12th', 'education_level_ 1st-4th', 'education_level_ 5th-6th', 'education_level_ 7th-8th', 'education_level_ 9th', 'education_level_ Assoc-acdm', 'education_level_ Assoc-voc', 'education_level_ Bachelors', 'education_level_ Doctorate', 'education_level_ HS-grad', 'education_level_ Masters', 'education_level_ Preschool', 'education_level_ Prof-school', 'education_level_ Some-college', 'marital-status_ Divorced', 'marital-status_ Married-AF-spouse', 'marital-status_ Married-civ-spouse', 'marital-status_ Married-spouse-absent', 'marital-status_ Never-married', 'marital-status_ Separated', 'marital-status_ Widowed', 'occupation_ Adm-clerical', 'occupation_ Armed-Forces', 'occupation_ Craft-repair', 'occupation_ Exec-managerial', 'occupation_ Farming-fishing', 'occupation_ Handlers-cleaners', 'occupation_ Machine-op-inspct', 'occupation_ Other-service', 'occupation_ Priv-house-serv', 'occupation_ Prof-specialty', 'occupation_ Protective-serv', 'occupation_ Sales', 'occupation_ Tech-support', 'occupation_ Transport-moving', 'relationship_ Husband', 'relationship_ Not-in-family', 'relationship_ Other-relative', 'relationship_ Own-child', 'relationship_ Unmarried', 'relationship_ Wife', 'race_ Amer-Indian-Eskimo', 'race_ Asian-Pac-Islander', 'race_ Black', 'race_ Other', 'race_ White', 'sex_ Female', 'sex_ Male', 'native-country_ Cambodia', 'native-country_ Canada', 'native-country_ China', 'native-country_ Columbia', 'native-country_ Cuba', 'native-country_ Dominican-Republic', 'native-country_ Ecuador', 'native-country_ El-Salvador', 'native-country_ England', 'native-country_ France', 'native-country_ Germany', 'native-country_ Greece', 'native-country_ Guatemala', 'native-country_ Haiti', 'native-country_ Holand-Netherlands', 'native-country_ Honduras', 'native-country_ Hong', 'native-country_ Hungary', 'native-country_ India', 'native-country_ Iran', 'native-country_ Ireland', 'native-country_ Italy', 'native-country_ Jamaica', 'native-country_ Japan', 'native-country_ Laos', 'native-country_ Mexico', 'native-country_ Nicaragua', 'native-country_ Outlying-US(Guam-USVI-etc)', 'native-country_ Peru', 'native-country_ Philippines', 'native-country_ Poland', 'native-country_ Portugal', 'native-country_ Puerto-Rico', 'native-country_ Scotland', 'native-country_ South', 'native-country_ Taiwan', 'native-country_ Thailand', 'native-country_ Trinadad&Tobago', 'native-country_ United-States', 'native-country_ Vietnam', 'native-country_ Yugoslavia']\n"
     ]
    }
   ],
   "source": [
    "# TODO: One-hot encode the 'features_log_minmax_transform' data using pandas.get_dummies()\n",
    "features_final = pd.get_dummies(features_log_minmax_transform)\n",
    "\n",
    "# TODO: Encode the 'income_raw' data to numerical values\n",
    "income = (income_raw == \">50K\").astype(int)\n",
    "\n",
    "# Print the number of features after one-hot encoding\n",
    "encoded = list(features_final.columns)\n",
    "print (\"{} total features after one-hot encoding.\".format(len(encoded)))\n",
    "\n",
    "# Uncomment the following line to see the encoded feature names\n",
    "print (encoded)"
   ]
  },
  {
   "cell_type": "code",
   "execution_count": null,
   "metadata": {},
   "outputs": [],
   "source": []
  },
  {
   "cell_type": "markdown",
   "metadata": {},
   "source": [
    "### Shuffle and Split Data\n",
    "Now all _categorical variables_ have been converted into numerical features, and all numerical features have been normalized. As always, we will now split the data (both features and their labels) into training and test sets. 80% of the data will be used for training and 20% for testing.\n",
    "\n",
    "Run the code cell below to perform this split."
   ]
  },
  {
   "cell_type": "code",
   "execution_count": 10,
   "metadata": {},
   "outputs": [
    {
     "name": "stdout",
     "output_type": "stream",
     "text": [
      "Training set has 36177 samples.\n",
      "Testing set has 9045 samples.\n"
     ]
    },
    {
     "name": "stderr",
     "output_type": "stream",
     "text": [
      "/home/extra/linux_package/anaconda_latest/lib/python3.5/site-packages/sklearn/cross_validation.py:41: DeprecationWarning: This module was deprecated in version 0.18 in favor of the model_selection module into which all the refactored classes and functions are moved. Also note that the interface of the new CV iterators are different from that of this module. This module will be removed in 0.20.\n",
      "  \"This module will be removed in 0.20.\", DeprecationWarning)\n"
     ]
    }
   ],
   "source": [
    "# Import train_test_split\n",
    "from sklearn.cross_validation import train_test_split\n",
    "\n",
    "# Split the 'features' and 'income' data into training and testing sets\n",
    "X_train, X_test, y_train, y_test = train_test_split(features_final, \n",
    "                                                    income, \n",
    "                                                    test_size = 0.2, \n",
    "                                                    random_state = 0)\n",
    "\n",
    "# Show the results of the split\n",
    "print (\"Training set has {} samples.\".format(X_train.shape[0]))\n",
    "print (\"Testing set has {} samples.\".format(X_test.shape[0]))"
   ]
  },
  {
   "cell_type": "code",
   "execution_count": 11,
   "metadata": {},
   "outputs": [],
   "source": [
    "# from sklearn.decomposition import PCA\n",
    "\n",
    "\n",
    "# pca = PCA(n_components=2)\n",
    "# x_train_pca = pca.fit_transform(X_train)\n",
    "\n",
    "# x_train_pca.shape\n",
    "\n",
    "\n",
    "# tmpDF = pd.DataFrame(x_train_pca, columns=[\"pc1\",\"pc2\"])\n",
    "# #tmpDF = X_train[[\"capital-gain\",\"education-num\"]]\n",
    "# tmpDF[\"target\"] = y_train.reset_index()[\"income\"]\n",
    "# #tmpDF[\"target\"] = y_train\n",
    "\n",
    "# print(tmpDF.head(10))\n",
    "\n",
    "# print(tmpDF.isnull().sum())\n",
    "\n",
    "# X_train.head()"
   ]
  },
  {
   "cell_type": "code",
   "execution_count": 12,
   "metadata": {},
   "outputs": [],
   "source": [
    "# import seaborn as sns\n",
    "# sns.set(style=\"ticks\")\n",
    "\n",
    "\n",
    "# sns.pairplot(tmpDF, hue=\"target\")"
   ]
  },
  {
   "cell_type": "markdown",
   "metadata": {},
   "source": [
    "----\n",
    "## Evaluating Model Performance\n",
    "In this section, we will investigate four different algorithms, and determine which is best at modeling the data. Three of these algorithms will be supervised learners of your choice, and the fourth algorithm is known as a *naive predictor*."
   ]
  },
  {
   "cell_type": "markdown",
   "metadata": {},
   "source": [
    "### Metrics and the Naive Predictor\n",
    "*CharityML*, equipped with their research, knows individuals that make more than \\$50,000 are most likely to donate to their charity. Because of this, *CharityML* is particularly interested in predicting who makes more than \\$50,000 accurately. It would seem that using **accuracy** as a metric for evaluating a particular model's performace would be appropriate. Additionally, identifying someone that *does not* make more than \\$50,000 as someone who does would be detrimental to *CharityML*, since they are looking to find individuals willing to donate. Therefore, a model's ability to precisely predict those that make more than \\$50,000 is *more important* than the model's ability to **recall** those individuals. We can use **F-beta score** as a metric that considers both precision and recall:\n",
    "\n",
    "$$ F_{\\beta} = (1 + \\beta^2) \\cdot \\frac{precision \\cdot recall}{\\left( \\beta^2 \\cdot precision \\right) + recall} $$\n",
    "\n",
    "In particular, when $\\beta = 0.5$, more emphasis is placed on precision. This is called the **F$_{0.5}$ score** (or F-score for simplicity).\n",
    "\n",
    "Looking at the distribution of classes (those who make at most \\$50,000, and those who make more), it's clear most individuals do not make more than \\$50,000. This can greatly affect **accuracy**, since we could simply say *\"this person does not make more than \\$50,000\"* and generally be right, without ever looking at the data! Making such a statement would be called **naive**, since we have not considered any information to substantiate the claim. It is always important to consider the *naive prediction* for your data, to help establish a benchmark for whether a model is performing well. That been said, using that prediction would be pointless: If we predicted all people made less than \\$50,000, *CharityML* would identify no one as donors. \n",
    "\n",
    "\n",
    "#### Note: Recap of accuracy, precision, recall\n",
    "\n",
    "** Accuracy ** measures how often the classifier makes the correct prediction. It’s the ratio of the number of correct predictions to the total number of predictions (the number of test data points).\n",
    "\n",
    "** Precision ** tells us what proportion of messages we classified as spam, actually were spam.\n",
    "It is a ratio of true positives(words classified as spam, and which are actually spam) to all positives(all words classified as spam, irrespective of whether that was the correct classificatio), in other words it is the ratio of\n",
    "\n",
    "`[True Positives/(True Positives + False Positives)]`\n",
    "\n",
    "** Recall(sensitivity)** tells us what proportion of messages that actually were spam were classified by us as spam.\n",
    "It is a ratio of true positives(words classified as spam, and which are actually spam) to all the words that were actually spam, in other words it is the ratio of\n",
    "\n",
    "`[True Positives/(True Positives + False Negatives)]`\n",
    "\n",
    "For classification problems that are skewed in their classification distributions like in our case, for example if we had a 100 text messages and only 2 were spam and the rest 98 weren't, accuracy by itself is not a very good metric. We could classify 90 messages as not spam(including the 2 that were spam but we classify them as not spam, hence they would be false negatives) and 10 as spam(all 10 false positives) and still get a reasonably good accuracy score. For such cases, precision and recall come in very handy. These two metrics can be combined to get the F1 score, which is weighted average(harmonic mean) of the precision and recall scores. This score can range from 0 to 1, with 1 being the best possible F1 score(we take the harmonic mean as we are dealing with ratios)."
   ]
  },
  {
   "cell_type": "markdown",
   "metadata": {},
   "source": [
    "### Question 1 - Naive Predictor Performace\n",
    "* If we chose a model that always predicted an individual made more than $50,000, what would  that model's accuracy and F-score be on this dataset? You must use the code cell below and assign your results to `'accuracy'` and `'fscore'` to be used later.\n",
    "\n",
    "** Please note ** that the the purpose of generating a naive predictor is simply to show what a base model without any intelligence would look like. In the real world, ideally your base model would be either the results of a previous model or could be based on a research paper upon which you are looking to improve. When there is no benchmark model set, getting a result better than random choice is a place you could start from.\n",
    "\n",
    "** HINT: ** \n",
    "\n",
    "* When we have a model that always predicts '1' (i.e. the individual makes more than 50k) then our model will have no True Negatives(TN) or False Negatives(FN) as we are not making any negative('0' value) predictions. Therefore our Accuracy in this case becomes the same as our Precision(True Positives/(True Positives + False Positives)) as every prediction that we have made with value '1' that should have '0' becomes a False Positive; therefore our denominator in this case is the total number of records we have in total. \n",
    "* Our Recall score(True Positives/(True Positives + False Negatives)) in this setting becomes 1 as we have no False Negatives."
   ]
  },
  {
   "cell_type": "markdown",
   "metadata": {},
   "source": [
    "### Answer: "
   ]
  },
  {
   "cell_type": "code",
   "execution_count": 13,
   "metadata": {},
   "outputs": [
    {
     "name": "stdout",
     "output_type": "stream",
     "text": [
      "Naive Predictor: [Accuracy score: 0.2478, F-score: 0.2917]\n"
     ]
    }
   ],
   "source": [
    "'''\n",
    "TP = np.sum(income) # Counting the ones as this is the naive case. Note that 'income' is the 'income_raw' data \n",
    "encoded to numerical values done in the data preprocessing step.\n",
    "FP = income.count() - TP # Specific to the naive case\n",
    "\n",
    "TN = 0 # No predicted negatives in the naive case\n",
    "FN = 0 # No predicted negatives in the naive case\n",
    "'''\n",
    "\n",
    "TP = np.sum(income)\n",
    "FP = income.count() - TP\n",
    "TN = 0\n",
    "FN = 0\n",
    "\n",
    "# TODO: Calculate accuracy, precision and recall\n",
    "accuracy = np.sum(income)/income.count()\n",
    "recall = TP/(TP + FN)\n",
    "precision = TP/(TP + FP)\n",
    "\n",
    "#print(accuracy,precision)\n",
    "\n",
    "# TODO: Calculate F-score using the formula above for beta = 0.5 and correct values for precision and recall.\n",
    "beta = 0.5\n",
    "fscore = (1+beta**2)*( (precision*recall) / ((beta**2 * precision)+recall))\n",
    "\n",
    "# Print the results \n",
    "print (\"Naive Predictor: [Accuracy score: {:.4f}, F-score: {:.4f}]\".format(accuracy, fscore))"
   ]
  },
  {
   "cell_type": "markdown",
   "metadata": {},
   "source": [
    "###  Supervised Learning Models\n",
    "**The following are some of the supervised learning models that are currently available in** [`scikit-learn`](http://scikit-learn.org/stable/supervised_learning.html) **that you may choose from:**\n",
    "- Gaussian Naive Bayes (GaussianNB)\n",
    "- Decision Trees\n",
    "- Ensemble Methods (Bagging, AdaBoost, Random Forest, Gradient Boosting)\n",
    "- K-Nearest Neighbors (KNeighbors)\n",
    "- Stochastic Gradient Descent Classifier (SGDC)\n",
    "- Support Vector Machines (SVM)\n",
    "- Logistic Regression"
   ]
  },
  {
   "cell_type": "markdown",
   "metadata": {},
   "source": [
    "### Question 2 - Model Application\n",
    "List three of the supervised learning models above that are appropriate for this problem that you will test on the census data. For each model chosen\n",
    "\n",
    "- Describe one real-world application in industry where the model can be applied. \n",
    "- What are the strengths of the model; when does it perform well?\n",
    "- What are the weaknesses of the model; when does it perform poorly?\n",
    "- What makes this model a good candidate for the problem, given what you know about the data?\n",
    "\n",
    "** HINT: **\n",
    "\n",
    "Structure your answer in the same format as above^, with 4 parts for each of the three models you pick. Please include references with your answer."
   ]
  },
  {
   "cell_type": "markdown",
   "metadata": {},
   "source": [
    "**Answer: **\n",
    "    \n",
    "    Picking three algorithms that works on different approach :-\n",
    "    \n",
    "** AdaBoosting: **\n",
    "   \n",
    "            AdaBoosting is a Ensemble Learning Methods of boosting type.\n",
    "\n",
    "\t\t1. In the industry, AdaBoosting algorithms has been used for the face detection. One of the example is Basketball Player Detection.\n",
    "\t\t\tRef: https://www.linkedin.com/pulse/application-adaboost-algorithm-basketball-player-belaid-khemnou/\n",
    "\n",
    "\t\t2. Strengths:\n",
    "\t\t\t- Main strength of boosting algorithms is focusing on reigons missed by the past estimator.\n",
    "\t\t\t- Boosting generally gives good result compare to single Estimator algorithm.\n",
    "\t\t\t- AdaBoosting can achieve good results with less tweaking of parameters or settings.\n",
    "\t\t\t- Less prone to overfitting\n",
    "\n",
    "\t\t3. Weaknesses:\n",
    "\t\t\t- AdaBoost can be sensitive to noisy data and outliers.\n",
    "\t\t\t- If complex model is used as the base classifier , this can lead to overfitting.\n",
    "\n",
    "\n",
    "\t\tRef:: \thttp://scikit-learn.org/stable/modules/ensemble.html\n",
    "\t\t\t\thttps://en.wikipedia.org/wiki/AdaBoost\n",
    "\t \n",
    " \n",
    "** SupprotVectorMachine (SVM): **\n",
    "    \n",
    "         1. SVM are helpful in text classification ( like Ads categorization ) \n",
    "         2. Strengths :\n",
    "            - SVM maxmize margin, that makes model more robust\n",
    "\t\t\t- SVM also support non-linear decision boundry with kernel tricks\n",
    "\t\t\t- It uses a subset of training points in the decision function (called support vectors), \n",
    "                so it is also memory efficient.\n",
    "\t\t\t- It is effective in high dimensional spaces.\n",
    "         3. Weaknesses :\n",
    "            - They don't perform well in very large data sets\n",
    "\t\t\t- Don't work well where there is a lots of noise\n",
    "\t\t\t- It will be very slow if dataset is large\t\t\n",
    "         4. SVM(kernel=rbf) will be a good candidate for finding_donors because it will create a non-linear decision boundry that can help to make good prediction\n",
    "         \n",
    "         Ref :\n",
    "             https://www.quora.com/What-are-the-advantages-of-support-vector-machines-SVM-compared-with-linear-regression-or-logistic-regression\n",
    "        \n",
    "             https://www.analyticsvidhya.com/blog/2017/09/understaing-support-vector-machine-example-code/\n",
    "             \n",
    "             \n",
    "             \n",
    "** LogisticRegression: **\n",
    "    \n",
    "        1. LogisticRegression can be used medical fields like Diabetes Prediction \n",
    "       \t2. Strengths :\n",
    "            - Convinent probability scores for observations\n",
    "            - Model training and prediction are fast\n",
    "            - Features don't need scaling\n",
    "            - Very less tuning is required (like regularization )\n",
    "\n",
    "        3. Weaknesses :\n",
    "            - Requires large sample size to achieve stable results.\n",
    "            - Doesn't perform well when feature space is too large.\n",
    "            - Doesn't handle large number of categorical features well.\n",
    "            - Relies on entire data\n",
    "            - Interpreting θ isn't straightforward\n",
    "\n",
    "        4. LogisticRegression is also a suitable candidate for finding_donors ML problem because we need to solve binary classification and logistic regression decision boundary are linear it can do good prediction\t\n",
    "\n",
    "        Ref:\n",
    "        https://www.edvancer.in/logistic-regression-vs-decision-trees-vs-svm-part2/\n",
    "        \n",
    "        http://nbviewer.jupyter.org/github/justmarkham/DAT8/blob/master/notebooks/12_logistic_regression.ipynb\n",
    "        \n",
    "        http://ryancompton.net/assets/ml_cheat_sheet/supervised_learning.html\n",
    "\n",
    "\t"
   ]
  },
  {
   "cell_type": "markdown",
   "metadata": {},
   "source": [
    "### Implementation - Creating a Training and Predicting Pipeline\n",
    "To properly evaluate the performance of each model you've chosen, it's important that you create a training and predicting pipeline that allows you to quickly and effectively train models using various sizes of training data and perform predictions on the testing data. Your implementation here will be used in the following section.\n",
    "In the code block below, you will need to implement the following:\n",
    " - Import `fbeta_score` and `accuracy_score` from [`sklearn.metrics`](http://scikit-learn.org/stable/modules/classes.html#sklearn-metrics-metrics).\n",
    " - Fit the learner to the sampled training data and record the training time.\n",
    " - Perform predictions on the test data `X_test`, and also on the first 300 training points `X_train[:300]`.\n",
    "   - Record the total prediction time.\n",
    " - Calculate the accuracy score for both the training subset and testing set.\n",
    " - Calculate the F-score for both the training subset and testing set.\n",
    "   - Make sure that you set the `beta` parameter!"
   ]
  },
  {
   "cell_type": "code",
   "execution_count": 14,
   "metadata": {
    "collapsed": true
   },
   "outputs": [],
   "source": [
    "# TODO: Import two metrics from sklearn - fbeta_score and accuracy_score\n",
    "from sklearn.metrics import accuracy_score, fbeta_score\n",
    "\n",
    "def train_predict(learner, sample_size, X_train, y_train, X_test, y_test): \n",
    "    '''\n",
    "    inputs:\n",
    "       - learner: the learning algorithm to be trained and predicted on\n",
    "       - sample_size: the size of samples (number) to be drawn from training set\n",
    "       - X_train: features training set\n",
    "       - y_train: income training set\n",
    "       - X_test: features testing set\n",
    "       - y_test: income testing set\n",
    "    '''\n",
    "    \n",
    "    results = {}\n",
    "    \n",
    "    # TODO: Fit the learner to the training data using slicing with 'sample_size' using .fit(training_features[:], training_labels[:])\n",
    "    start = time() # Get start time\n",
    "    learner = learner.fit(X_train[:sample_size] , y_train[:sample_size])\n",
    "    end = time() # Get end time\n",
    "    \n",
    "    # TODO: Calculate the training time\n",
    "    results['train_time'] = end - start\n",
    "        \n",
    "    # TODO: Get the predictions on the test set(X_test),\n",
    "    #       then get predictions on the first 300 training samples(X_train) using .predict()\n",
    "    start = time() # Get start time\n",
    "    predictions_test = learner.predict(X_test)\n",
    "    predictions_train = learner.predict(X_train[:300])\n",
    "    end = time() # Get end time\n",
    "    \n",
    "    # TODO: Calculate the total prediction time\n",
    "    results['pred_time'] = end - start\n",
    "            \n",
    "    # TODO: Compute accuracy on the first 300 training samples which is y_train[:300]\n",
    "    results['acc_train'] = accuracy_score(y_train[:300],predictions_train)\n",
    "        \n",
    "    # TODO: Compute accuracy on test set using accuracy_score()\n",
    "    results['acc_test'] = accuracy_score(y_test,predictions_test)\n",
    "    \n",
    "    # TODO: Compute F-score on the the first 300 training samples using fbeta_score()\n",
    "    results['f_train'] = fbeta_score(y_train[:300], predictions_train, beta=0.5)\n",
    "        \n",
    "    # TODO: Compute F-score on the test set which is y_test\n",
    "    results['f_test'] = fbeta_score(y_test, predictions_test, beta=0.5)\n",
    "       \n",
    "    # Success\n",
    "    print (\"{} trained on {} samples.\".format(learner.__class__.__name__, sample_size))\n",
    "        \n",
    "    # Return the results\n",
    "    return results"
   ]
  },
  {
   "cell_type": "markdown",
   "metadata": {},
   "source": [
    "### Implementation: Initial Model Evaluation\n",
    "In the code cell, you will need to implement the following:\n",
    "- Import the three supervised learning models you've discussed in the previous section.\n",
    "- Initialize the three models and store them in `'clf_A'`, `'clf_B'`, and `'clf_C'`.\n",
    "  - Use a `'random_state'` for each model you use, if provided.\n",
    "  - **Note:** Use the default settings for each model — you will tune one specific model in a later section.\n",
    "- Calculate the number of records equal to 1%, 10%, and 100% of the training data.\n",
    "  - Store those values in `'samples_1'`, `'samples_10'`, and `'samples_100'` respectively.\n",
    "\n",
    "**Note:** Depending on which algorithms you chose, the following implementation may take some time to run!"
   ]
  },
  {
   "cell_type": "code",
   "execution_count": 19,
   "metadata": {},
   "outputs": [
    {
     "name": "stdout",
     "output_type": "stream",
     "text": [
      "AdaBoostClassifier trained on 361 samples.\n",
      "AdaBoostClassifier trained on 3617 samples.\n",
      "AdaBoostClassifier trained on 36177 samples.\n"
     ]
    },
    {
     "name": "stderr",
     "output_type": "stream",
     "text": [
      "/home/extra/linux_package/anaconda_latest/lib/python3.5/site-packages/sklearn/metrics/classification.py:1135: UndefinedMetricWarning: F-score is ill-defined and being set to 0.0 due to no predicted samples.\n",
      "  'precision', 'predicted', average, warn_for)\n"
     ]
    },
    {
     "name": "stdout",
     "output_type": "stream",
     "text": [
      "SVC trained on 361 samples.\n",
      "SVC trained on 3617 samples.\n",
      "SVC trained on 36177 samples.\n",
      "LogisticRegression trained on 361 samples.\n",
      "LogisticRegression trained on 3617 samples.\n",
      "LogisticRegression trained on 36177 samples.\n"
     ]
    },
    {
     "data": {
      "image/png": "[encoded data removed]",
      "text/plain": [
       "<matplotlib.figure.Figure at 0x7f39ddfbe1d0>"
      ]
     },
     "metadata": {},
     "output_type": "display_data"
    }
   ],
   "source": [
    "# TODO: Import the three supervised learning models from sklearn\n",
    "from sklearn.svm import SVC\n",
    "from sklearn.tree import DecisionTreeClassifier\n",
    "from sklearn.neighbors import KNeighborsClassifier\n",
    "from sklearn.linear_model import LogisticRegression\n",
    "from sklearn.ensemble import RandomForestClassifier, GradientBoostingClassifier, AdaBoostClassifier\n",
    "\n",
    "random_state = 1\n",
    "# TODO: Initialize the three models\n",
    "clf_A = AdaBoostClassifier(random_state = random_state)\n",
    "clf_B = SVC(random_state = random_state)\n",
    "clf_C = LogisticRegression(random_state = random_state)\n",
    "\n",
    "# TODO: Calculate the number of samples for 1%, 10%, and 100% of the training data\n",
    "# HINT: samples_100 is the entire training set i.e. len(y_train)\n",
    "# HINT: samples_10 is 10% of samples_100\n",
    "# HINT: samples_1 is 1% of samples_100\n",
    "samples_100 = len(y_train)\n",
    "samples_10 = int((samples_100 * 10 ) / 100)\n",
    "samples_1 = int((samples_100 * 1) / 100)\n",
    "\n",
    "# Collect results on the learners\n",
    "results = {}\n",
    "for clf in [clf_A, clf_B, clf_C]:\n",
    "    clf_name = clf.__class__.__name__\n",
    "    results[clf_name] = {}\n",
    "    for i, samples in enumerate([samples_1, samples_10, samples_100]):\n",
    "        results[clf_name][i] = \\\n",
    "        train_predict(clf, samples, X_train, y_train, X_test, y_test)\n",
    "\n",
    "# Run metrics visualization for the three supervised learning models chosen\n",
    "vs.evaluate(results, accuracy, fscore)"
   ]
  },
  {
   "cell_type": "code",
   "execution_count": 42,
   "metadata": {},
   "outputs": [
    {
     "name": "stdout",
     "output_type": "stream",
     "text": [
      "SVC:\n",
      "\t\tF-Score:\t 0.6744771707 \n",
      "\t\ttraining_time : \t 113.5948212146759 \n",
      "\t\tprediction_time : \t 19.786908388137817\n",
      "\n",
      "\n",
      "AdaBoostClassifier:\n",
      "\t\tF-Score:\t 0.724550898204 \n",
      "\t\ttraining_time : \t 1.724313497543335 \n",
      "\t\tprediction_time : \t 0.10348987579345703\n",
      "\n",
      "\n",
      "LogisticRegression:\n",
      "\t\tF-Score:\t 0.683165228242 \n",
      "\t\ttraining_time : \t 0.36244821548461914 \n",
      "\t\tprediction_time : \t 0.005040168762207031\n"
     ]
    }
   ],
   "source": [
    "print(\"SVC:\\n\\t\\tF-Score:\\t\",\n",
    "      results['SVC'][2]['f_test'],\n",
    "      \"\\n\\t\\ttraining_time : \\t\",results['SVC'][2]['train_time'],\n",
    "     \"\\n\\t\\tprediction_time : \\t\",results['SVC'][2]['pred_time'])\n",
    "\n",
    "print(\"\\n\")\n",
    "\n",
    "print(\"AdaBoostClassifier:\\n\\t\\tF-Score:\\t\",\n",
    "      results['AdaBoostClassifier'][2]['f_test'],\n",
    "      \"\\n\\t\\ttraining_time : \\t\",results['AdaBoostClassifier'][2]['train_time'],\n",
    "     \"\\n\\t\\tprediction_time : \\t\",results['AdaBoostClassifier'][2]['pred_time'])\n",
    "\n",
    "print(\"\\n\")\n",
    "\n",
    "print(\"LogisticRegression:\\n\\t\\tF-Score:\\t\",\n",
    "      results['LogisticRegression'][2]['f_test'],\n",
    "      \"\\n\\t\\ttraining_time : \\t\",results['LogisticRegression'][2]['train_time'],\n",
    "     \"\\n\\t\\tprediction_time : \\t\",results['LogisticRegression'][2]['pred_time'])\n"
   ]
  },
  {
   "cell_type": "code",
   "execution_count": 27,
   "metadata": {},
   "outputs": [],
   "source": [
    "#results['SVC']"
   ]
  },
  {
   "cell_type": "markdown",
   "metadata": {},
   "source": [
    "----\n",
    "## Improving Results\n",
    "In this final section, you will choose from the three supervised learning models the *best* model to use on the student data. You will then perform a grid search optimization for the model over the entire training set (`X_train` and `y_train`) by tuning at least one parameter to improve upon the untuned model's F-score. "
   ]
  },
  {
   "cell_type": "markdown",
   "metadata": {},
   "source": [
    "### Question 3 - Choosing the Best Model\n",
    "\n",
    "* Based on the evaluation you performed earlier, in one to two paragraphs, explain to *CharityML* which of the three models you believe to be most appropriate for the task of identifying individuals that make more than \\$50,000. \n",
    "\n",
    "** HINT: ** \n",
    "Look at the graph at the bottom left from the cell above(the visualization created by `vs.evaluate(results, accuracy, fscore)`) and check the F score for the testing set when 100% of the training set is used. Which model has the highest score? Your answer should include discussion of the:\n",
    "* metrics - F score on the testing when 100% of the training data is used, \n",
    "* prediction/training time\n",
    "* the algorithm's suitability for the data."
   ]
  },
  {
   "cell_type": "markdown",
   "metadata": {},
   "source": [
    "**Answer: **\n",
    "\n",
    "    Based on the evaluation earlier, best model is \"AdaBoostClassifier\".\n",
    "    \n",
    "    1. metrics:- AdaBoostClassifier gives the highest F-score ( 0.724550898204 )\n",
    "    \n",
    "    2. prediciton/training time:- AdaBoostClassifier has slightly higher training and prediciton time, LogisticRegression has the lowest training and prediction time. \n",
    "    \n",
    "    3. AdaBoostClassifier algorithm works well on the CharityML data it uses DecisionTreeClassifier as base estimator and by working on the errors made by the different estimators it produces a very good result\n",
    "    \n"
   ]
  },
  {
   "cell_type": "markdown",
   "metadata": {},
   "source": [
    "### Question 4 - Describing the Model in Layman's Terms\n",
    "\n",
    "* In one to two paragraphs, explain to *CharityML*, in layman's terms, how the final model chosen is supposed to work. Be sure that you are describing the major qualities of the model, such as how the model is trained and how the model makes a prediction. Avoid using advanced mathematical jargon, such as describing equations.\n",
    "\n",
    "** HINT: **\n",
    "\n",
    "When explaining your model, if using external resources please include all citations."
   ]
  },
  {
   "cell_type": "markdown",
   "metadata": {},
   "source": [
    "<b> Hello"
   ]
  },
  {
   "cell_type": "markdown",
   "metadata": {},
   "source": [
    "**Answer: **   \n",
    "\n",
    "CharityML in Layman's Terms:-\n",
    "\n",
    "\n",
    "** --> CharityML Objective :: **\n",
    "\n",
    "\t\tCharityML is a Supervised MachineLearning model that takes census data as input and classify each ovservation with incomes >50K vs <=50K\n",
    "        \n",
    "** -->  Overview of Census Data :: **\n",
    "   \n",
    "\t\t\tInput data for CharityML is census data. Census data has 13 features. Out of these 5 features belongs to quantitative and 8 features belongs to qualitative category.\n",
    "\t\t\tCensus data have features like Age, Capital-gain, Capital-loss , education_level, workclass, martial-status etc.\n",
    "\t\t\tTarget Class have two category: <=50K and >50K\n",
    "\n",
    "** -->  Data Preparation :: **\n",
    "    \n",
    "\t\t\t1. Change categorical data to numerical values. Example: Categorical values like Male of Female for sex (feature) can be represented by numerical value 0 for Male and 1 for Female.\n",
    "\n",
    "\t\t\t2. Remove the Skewness of data. When the set of data are not symmetric are said to be asymmetric. \n",
    "\t\t\t\tFor example: Incomes are skewed to the right because even just a few individuals who earn millions of dollars can greatly affect the mean, and there are no negative incomes. \n",
    "\t\t\t\tIn census data we have two skewed features : capital-gain and capital-loss\n",
    "\n",
    "** -->  Supervised Learning Algorithm :: **\n",
    "    \n",
    "\t\t\tCharityML uses AdaBoosting algorithm.\n",
    "\t\t\tAdaBoosting fits a sequence of weak learners on repeatedly modified versions of the data.\n",
    "\t\t\tWeak learners means the models that are slightly better than random guessing.\n",
    "\t\t\tData modification at each step called boosting iteration. It consists of applying weights to each of the training samples.\n",
    "\t\t\tInitially, all training samples have the same weight. For each next step, weight are individually modified and learning algorithm is reapplied. Boosting focus on the regions where previous learners preforms weakly. In each step weights are increased where previous learner predict incorrectly and weights are decreased where it predicts correctly.\n",
    "\n",
    "\t\t\tFinally, prediction from all of the learners are combined through a weighted majority vote \tto produce the final predicition.\n",
    "\n",
    "** -->  Model Training :: **\n",
    "     \n",
    "\t\t\tIn model training, CharityML uses DecisionTreeClassifier as base estimator for AdaBoost and ensembles 50 different DecisionTreeClassifier and Finally feeding the transformed data into AdaBoost for learning.\n",
    "\n",
    "** -->  Predictions :: **\n",
    "    \n",
    "\t\t\tTrained model will be used to predict the unseen census data. \n",
    "\t\t\tAccording to the individual unseen observation, ChairtyML can successfully categorize each observation into Either >50K or <=50K category.\n",
    "\n",
    "\n",
    "\t\tRef :: \n",
    "\n",
    "\t\t\thttps://www.thoughtco.com/what-is-skewness-in-statistics-3126242\n",
    "\t\t\thttp://scikit-learn.org/stable/modules/ensemble.html\n",
    "\t\t\thttps://en.wikipedia.org/wiki/AdaBoost\n"
   ]
  },
  {
   "cell_type": "markdown",
   "metadata": {},
   "source": [
    "### Implementation: Model Tuning\n",
    "Fine tune the chosen model. Use grid search (`GridSearchCV`) with at least one important parameter tuned with at least 3 different values. You will need to use the entire training set for this. In the code cell below, you will need to implement the following:\n",
    "- Import [`sklearn.grid_search.GridSearchCV`](http://scikit-learn.org/0.17/modules/generated/sklearn.grid_search.GridSearchCV.html) and [`sklearn.metrics.make_scorer`](http://scikit-learn.org/stable/modules/generated/sklearn.metrics.make_scorer.html).\n",
    "- Initialize the classifier you've chosen and store it in `clf`.\n",
    " - Set a `random_state` if one is available to the same state you set before.\n",
    "- Create a dictionary of parameters you wish to tune for the chosen model.\n",
    " - Example: `parameters = {'parameter' : [list of values]}`.\n",
    " - **Note:** Avoid tuning the `max_features` parameter of your learner if that parameter is available!\n",
    "- Use `make_scorer` to create an `fbeta_score` scoring object (with $\\beta = 0.5$).\n",
    "- Perform grid search on the classifier `clf` using the `'scorer'`, and store it in `grid_obj`.\n",
    "- Fit the grid search object to the training data (`X_train`, `y_train`), and store it in `grid_fit`.\n",
    "\n",
    "**Note:** Depending on the algorithm chosen and the parameter list, the following implementation may take some time to run!"
   ]
  },
  {
   "cell_type": "code",
   "execution_count": 43,
   "metadata": {},
   "outputs": [
    {
     "name": "stdout",
     "output_type": "stream",
     "text": [
      "Fitting 3 folds for each of 24 candidates, totalling 72 fits\n"
     ]
    },
    {
     "name": "stderr",
     "output_type": "stream",
     "text": [
      "/home/extra/linux_package/anaconda_latest/lib/python3.5/site-packages/sklearn/grid_search.py:42: DeprecationWarning: This module was deprecated in version 0.18 in favor of the model_selection module into which all the refactored classes and functions are moved. This module will be removed in 0.20.\n",
      "  DeprecationWarning)\n"
     ]
    },
    {
     "name": "stdout",
     "output_type": "stream",
     "text": [
      "[CV] base_estimator__min_samples_split=2, n_estimators=100, learning_rate=1, base_estimator__max_depth=3 \n",
      "[CV] base_estimator__min_samples_split=2, n_estimators=100, learning_rate=1, base_estimator__max_depth=3 \n",
      "[CV] base_estimator__min_samples_split=2, n_estimators=100, learning_rate=1, base_estimator__max_depth=3 \n",
      "[CV] base_estimator__min_samples_split=2, n_estimators=500, learning_rate=1, base_estimator__max_depth=3 \n",
      "[CV]  base_estimator__min_samples_split=2, n_estimators=100, learning_rate=1, base_estimator__max_depth=3, score=0.734760 -  12.3s\n",
      "[CV] base_estimator__min_samples_split=2, n_estimators=500, learning_rate=1, base_estimator__max_depth=3 \n",
      "[CV]  base_estimator__min_samples_split=2, n_estimators=100, learning_rate=1, base_estimator__max_depth=3, score=0.734573 -  12.7s\n",
      "[CV] base_estimator__min_samples_split=2, n_estimators=500, learning_rate=1, base_estimator__max_depth=3 \n",
      "[CV]  base_estimator__min_samples_split=2, n_estimators=100, learning_rate=1, base_estimator__max_depth=3, score=0.732967 -  13.1s\n",
      "[CV] base_estimator__min_samples_split=2, n_estimators=100, learning_rate=1.5, base_estimator__max_depth=3 \n",
      "[CV]  base_estimator__min_samples_split=2, n_estimators=100, learning_rate=1.5, base_estimator__max_depth=3, score=0.715776 -  12.2s\n",
      "[CV] base_estimator__min_samples_split=2, n_estimators=100, learning_rate=1.5, base_estimator__max_depth=3 \n",
      "[CV]  base_estimator__min_samples_split=2, n_estimators=100, learning_rate=1.5, base_estimator__max_depth=3, score=0.709914 -  11.7s\n",
      "[CV] base_estimator__min_samples_split=2, n_estimators=100, learning_rate=1.5, base_estimator__max_depth=3 \n",
      "[CV]  base_estimator__min_samples_split=2, n_estimators=100, learning_rate=1.5, base_estimator__max_depth=3, score=0.721186 -  13.5s\n",
      "[CV] base_estimator__min_samples_split=2, n_estimators=500, learning_rate=1.5, base_estimator__max_depth=3 \n",
      "[CV]  base_estimator__min_samples_split=2, n_estimators=500, learning_rate=1, base_estimator__max_depth=3, score=0.712111 - 1.0min\n",
      "[CV] base_estimator__min_samples_split=2, n_estimators=500, learning_rate=1.5, base_estimator__max_depth=3 \n",
      "[CV]  base_estimator__min_samples_split=2, n_estimators=500, learning_rate=1, base_estimator__max_depth=3, score=0.704634 - 1.0min\n",
      "[CV] base_estimator__min_samples_split=2, n_estimators=500, learning_rate=1.5, base_estimator__max_depth=3 \n",
      "[CV]  base_estimator__min_samples_split=2, n_estimators=500, learning_rate=1, base_estimator__max_depth=3, score=0.702830 - 1.1min\n",
      "[CV] base_estimator__min_samples_split=2, n_estimators=100, learning_rate=0.5, base_estimator__max_depth=3 \n",
      "[CV]  base_estimator__min_samples_split=2, n_estimators=100, learning_rate=0.5, base_estimator__max_depth=3, score=0.749418 -  11.5s\n",
      "[CV] base_estimator__min_samples_split=2, n_estimators=100, learning_rate=0.5, base_estimator__max_depth=3 \n"
     ]
    },
    {
     "name": "stderr",
     "output_type": "stream",
     "text": [
      "[Parallel(n_jobs=-1)]: Done  10 tasks      | elapsed:  1.5min\n"
     ]
    },
    {
     "name": "stdout",
     "output_type": "stream",
     "text": [
      "[CV]  base_estimator__min_samples_split=2, n_estimators=100, learning_rate=0.5, base_estimator__max_depth=3, score=0.745151 -  11.6s\n",
      "[CV] base_estimator__min_samples_split=2, n_estimators=100, learning_rate=0.5, base_estimator__max_depth=3 \n",
      "[CV]  base_estimator__min_samples_split=2, n_estimators=500, learning_rate=1.5, base_estimator__max_depth=3, score=0.687165 -  58.5s\n",
      "[CV] base_estimator__min_samples_split=2, n_estimators=500, learning_rate=0.5, base_estimator__max_depth=3 \n",
      "[CV]  base_estimator__min_samples_split=2, n_estimators=100, learning_rate=0.5, base_estimator__max_depth=3, score=0.754637 -  11.8s\n",
      "[CV] base_estimator__min_samples_split=2, n_estimators=500, learning_rate=0.5, base_estimator__max_depth=3 \n",
      "[CV]  base_estimator__min_samples_split=2, n_estimators=500, learning_rate=1.5, base_estimator__max_depth=3, score=0.684723 -  59.4s\n",
      "[CV] base_estimator__min_samples_split=2, n_estimators=500, learning_rate=0.5, base_estimator__max_depth=3 \n",
      "[CV]  base_estimator__min_samples_split=2, n_estimators=500, learning_rate=1.5, base_estimator__max_depth=3, score=0.694555 -  59.3s\n",
      "[CV] base_estimator__min_samples_split=3, n_estimators=100, learning_rate=1, base_estimator__max_depth=3 \n",
      "[CV]  base_estimator__min_samples_split=3, n_estimators=100, learning_rate=1, base_estimator__max_depth=3, score=0.732967 -  11.8s\n",
      "[CV] base_estimator__min_samples_split=3, n_estimators=100, learning_rate=1, base_estimator__max_depth=3 \n",
      "[CV]  base_estimator__min_samples_split=3, n_estimators=100, learning_rate=1, base_estimator__max_depth=3, score=0.734573 -  11.9s\n",
      "[CV] base_estimator__min_samples_split=3, n_estimators=100, learning_rate=1, base_estimator__max_depth=3 \n",
      "[CV]  base_estimator__min_samples_split=2, n_estimators=500, learning_rate=0.5, base_estimator__max_depth=3, score=0.730653 -  58.6s\n",
      "[CV] base_estimator__min_samples_split=3, n_estimators=500, learning_rate=1, base_estimator__max_depth=3 \n",
      "[CV]  base_estimator__min_samples_split=3, n_estimators=100, learning_rate=1, base_estimator__max_depth=3, score=0.735459 -  11.7s\n",
      "[CV] base_estimator__min_samples_split=3, n_estimators=500, learning_rate=1, base_estimator__max_depth=3 \n",
      "[CV]  base_estimator__min_samples_split=2, n_estimators=500, learning_rate=0.5, base_estimator__max_depth=3, score=0.724263 -  59.0s\n",
      "[CV] base_estimator__min_samples_split=3, n_estimators=500, learning_rate=1, base_estimator__max_depth=3 \n",
      "[CV]  base_estimator__min_samples_split=2, n_estimators=500, learning_rate=0.5, base_estimator__max_depth=3, score=0.732018 -  58.4s\n",
      "[CV] base_estimator__min_samples_split=3, n_estimators=100, learning_rate=1.5, base_estimator__max_depth=3 \n",
      "[CV]  base_estimator__min_samples_split=3, n_estimators=100, learning_rate=1.5, base_estimator__max_depth=3, score=0.718580 -  11.5s\n",
      "[CV] base_estimator__min_samples_split=3, n_estimators=100, learning_rate=1.5, base_estimator__max_depth=3 \n",
      "[CV]  base_estimator__min_samples_split=3, n_estimators=100, learning_rate=1.5, base_estimator__max_depth=3, score=0.712954 -  11.6s\n",
      "[CV] base_estimator__min_samples_split=3, n_estimators=100, learning_rate=1.5, base_estimator__max_depth=3 \n",
      "[CV]  base_estimator__min_samples_split=3, n_estimators=100, learning_rate=1.5, base_estimator__max_depth=3, score=0.721186 -  11.5s\n",
      "[CV] base_estimator__min_samples_split=3, n_estimators=500, learning_rate=1.5, base_estimator__max_depth=3 \n",
      "[CV]  base_estimator__min_samples_split=3, n_estimators=500, learning_rate=1, base_estimator__max_depth=3, score=0.707114 -  58.5s\n",
      "[CV] base_estimator__min_samples_split=3, n_estimators=500, learning_rate=1.5, base_estimator__max_depth=3 \n",
      "[CV]  base_estimator__min_samples_split=3, n_estimators=500, learning_rate=1, base_estimator__max_depth=3, score=0.702170 -  59.8s\n",
      "[CV] base_estimator__min_samples_split=3, n_estimators=500, learning_rate=1.5, base_estimator__max_depth=3 \n",
      "[CV]  base_estimator__min_samples_split=3, n_estimators=500, learning_rate=1, base_estimator__max_depth=3, score=0.709417 -  59.0s\n",
      "[CV] base_estimator__min_samples_split=3, n_estimators=100, learning_rate=0.5, base_estimator__max_depth=3 \n",
      "[CV]  base_estimator__min_samples_split=3, n_estimators=100, learning_rate=0.5, base_estimator__max_depth=3, score=0.749418 -  11.8s\n",
      "[CV] base_estimator__min_samples_split=3, n_estimators=100, learning_rate=0.5, base_estimator__max_depth=3 \n",
      "[CV]  base_estimator__min_samples_split=3, n_estimators=100, learning_rate=0.5, base_estimator__max_depth=3, score=0.745151 -  11.9s\n",
      "[CV] base_estimator__min_samples_split=3, n_estimators=100, learning_rate=0.5, base_estimator__max_depth=3 \n",
      "[CV]  base_estimator__min_samples_split=3, n_estimators=100, learning_rate=0.5, base_estimator__max_depth=3, score=0.752909 -  12.0s\n",
      "[CV] base_estimator__min_samples_split=3, n_estimators=500, learning_rate=0.5, base_estimator__max_depth=3 \n",
      "[CV]  base_estimator__min_samples_split=3, n_estimators=500, learning_rate=1.5, base_estimator__max_depth=3, score=0.696229 -  58.8s\n",
      "[CV] base_estimator__min_samples_split=3, n_estimators=500, learning_rate=0.5, base_estimator__max_depth=3 \n",
      "[CV]  base_estimator__min_samples_split=3, n_estimators=500, learning_rate=1.5, base_estimator__max_depth=3, score=0.688189 -  59.0s\n",
      "[CV] base_estimator__min_samples_split=3, n_estimators=500, learning_rate=0.5, base_estimator__max_depth=3 \n",
      "[CV]  base_estimator__min_samples_split=3, n_estimators=500, learning_rate=1.5, base_estimator__max_depth=3, score=0.694555 -  59.1s\n",
      "[CV] base_estimator__min_samples_split=2, n_estimators=100, learning_rate=1, base_estimator__max_depth=1 \n",
      "[CV]  base_estimator__min_samples_split=2, n_estimators=100, learning_rate=1, base_estimator__max_depth=1, score=0.733459 -   5.5s\n",
      "[CV] base_estimator__min_samples_split=2, n_estimators=100, learning_rate=1, base_estimator__max_depth=1 \n",
      "[CV]  base_estimator__min_samples_split=2, n_estimators=100, learning_rate=1, base_estimator__max_depth=1, score=0.731707 -   5.2s\n",
      "[CV] base_estimator__min_samples_split=2, n_estimators=100, learning_rate=1, base_estimator__max_depth=1 \n",
      "[CV]  base_estimator__min_samples_split=2, n_estimators=100, learning_rate=1, base_estimator__max_depth=1, score=0.740056 -   5.4s\n",
      "[CV] base_estimator__min_samples_split=2, n_estimators=500, learning_rate=1, base_estimator__max_depth=1 \n",
      "[CV]  base_estimator__min_samples_split=3, n_estimators=500, learning_rate=0.5, base_estimator__max_depth=3, score=0.727373 -  59.8s\n",
      "[CV] base_estimator__min_samples_split=2, n_estimators=500, learning_rate=1, base_estimator__max_depth=1 \n",
      "[CV]  base_estimator__min_samples_split=2, n_estimators=500, learning_rate=1, base_estimator__max_depth=1, score=0.752936 -  26.4s\n",
      "[CV] base_estimator__min_samples_split=2, n_estimators=500, learning_rate=1, base_estimator__max_depth=1 \n",
      "[CV]  base_estimator__min_samples_split=3, n_estimators=500, learning_rate=0.5, base_estimator__max_depth=3, score=0.724125 -  59.4s\n",
      "[CV] base_estimator__min_samples_split=2, n_estimators=100, learning_rate=1.5, base_estimator__max_depth=1 \n",
      "[CV]  base_estimator__min_samples_split=2, n_estimators=100, learning_rate=1.5, base_estimator__max_depth=1, score=0.740994 -   5.4s\n",
      "[CV] base_estimator__min_samples_split=2, n_estimators=100, learning_rate=1.5, base_estimator__max_depth=1 \n",
      "[CV]  base_estimator__min_samples_split=2, n_estimators=100, learning_rate=1.5, base_estimator__max_depth=1, score=0.734790 -   5.4s\n",
      "[CV] base_estimator__min_samples_split=2, n_estimators=100, learning_rate=1.5, base_estimator__max_depth=1 \n",
      "[CV]  base_estimator__min_samples_split=3, n_estimators=500, learning_rate=0.5, base_estimator__max_depth=3, score=0.732678 -  58.9s\n",
      "[CV] base_estimator__min_samples_split=2, n_estimators=500, learning_rate=1.5, base_estimator__max_depth=1 \n",
      "[CV]  base_estimator__min_samples_split=2, n_estimators=100, learning_rate=1.5, base_estimator__max_depth=1, score=0.749546 -   5.4s\n",
      "[CV] base_estimator__min_samples_split=2, n_estimators=500, learning_rate=1.5, base_estimator__max_depth=1 \n",
      "[CV]  base_estimator__min_samples_split=2, n_estimators=500, learning_rate=1, base_estimator__max_depth=1, score=0.743238 -  27.5s\n",
      "[CV] base_estimator__min_samples_split=2, n_estimators=500, learning_rate=1.5, base_estimator__max_depth=1 \n",
      "[CV]  base_estimator__min_samples_split=2, n_estimators=500, learning_rate=1, base_estimator__max_depth=1, score=0.754026 -  27.0s\n"
     ]
    },
    {
     "name": "stdout",
     "output_type": "stream",
     "text": [
      "[CV] base_estimator__min_samples_split=2, n_estimators=100, learning_rate=0.5, base_estimator__max_depth=1 \n",
      "[CV]  base_estimator__min_samples_split=2, n_estimators=100, learning_rate=0.5, base_estimator__max_depth=1, score=0.734831 -   5.6s\n",
      "[CV] base_estimator__min_samples_split=2, n_estimators=100, learning_rate=0.5, base_estimator__max_depth=1 \n",
      "[CV]  base_estimator__min_samples_split=2, n_estimators=100, learning_rate=0.5, base_estimator__max_depth=1, score=0.732796 -   5.8s\n",
      "[CV] base_estimator__min_samples_split=2, n_estimators=100, learning_rate=0.5, base_estimator__max_depth=1 \n",
      "[CV]  base_estimator__min_samples_split=2, n_estimators=500, learning_rate=1.5, base_estimator__max_depth=1, score=0.753759 -  27.7s\n",
      "[CV] base_estimator__min_samples_split=2, n_estimators=500, learning_rate=0.5, base_estimator__max_depth=1 \n",
      "[CV]  base_estimator__min_samples_split=2, n_estimators=100, learning_rate=0.5, base_estimator__max_depth=1, score=0.731952 -   5.6s\n",
      "[CV] base_estimator__min_samples_split=2, n_estimators=500, learning_rate=0.5, base_estimator__max_depth=1 \n",
      "[CV]  base_estimator__min_samples_split=2, n_estimators=500, learning_rate=1.5, base_estimator__max_depth=1, score=0.744843 -  29.0s\n",
      "[CV] base_estimator__min_samples_split=2, n_estimators=500, learning_rate=0.5, base_estimator__max_depth=1 \n",
      "[CV]  base_estimator__min_samples_split=2, n_estimators=500, learning_rate=1.5, base_estimator__max_depth=1, score=0.754550 -  27.7s\n",
      "[CV] base_estimator__min_samples_split=3, n_estimators=100, learning_rate=1, base_estimator__max_depth=1 \n",
      "[CV]  base_estimator__min_samples_split=3, n_estimators=100, learning_rate=1, base_estimator__max_depth=1, score=0.733459 -   6.1s\n",
      "[CV] base_estimator__min_samples_split=3, n_estimators=100, learning_rate=1, base_estimator__max_depth=1 \n",
      "[CV]  base_estimator__min_samples_split=3, n_estimators=100, learning_rate=1, base_estimator__max_depth=1, score=0.731707 -   5.5s\n",
      "[CV] base_estimator__min_samples_split=3, n_estimators=100, learning_rate=1, base_estimator__max_depth=1 \n",
      "[CV]  base_estimator__min_samples_split=3, n_estimators=100, learning_rate=1, base_estimator__max_depth=1, score=0.740056 -   5.5s\n",
      "[CV] base_estimator__min_samples_split=3, n_estimators=500, learning_rate=1, base_estimator__max_depth=1 \n",
      "[CV]  base_estimator__min_samples_split=2, n_estimators=500, learning_rate=0.5, base_estimator__max_depth=1, score=0.746822 -  27.3s\n",
      "[CV] base_estimator__min_samples_split=3, n_estimators=500, learning_rate=1, base_estimator__max_depth=1 \n",
      "[CV]  base_estimator__min_samples_split=2, n_estimators=500, learning_rate=0.5, base_estimator__max_depth=1, score=0.741028 -  28.2s\n",
      "[CV] base_estimator__min_samples_split=3, n_estimators=500, learning_rate=1, base_estimator__max_depth=1 \n",
      "[CV]  base_estimator__min_samples_split=2, n_estimators=500, learning_rate=0.5, base_estimator__max_depth=1, score=0.747889 -  28.3s\n",
      "[CV] base_estimator__min_samples_split=3, n_estimators=100, learning_rate=1.5, base_estimator__max_depth=1 \n",
      "[CV]  base_estimator__min_samples_split=3, n_estimators=100, learning_rate=1.5, base_estimator__max_depth=1, score=0.740994 -   5.5s\n",
      "[CV] base_estimator__min_samples_split=3, n_estimators=100, learning_rate=1.5, base_estimator__max_depth=1 \n",
      "[CV]  base_estimator__min_samples_split=3, n_estimators=100, learning_rate=1.5, base_estimator__max_depth=1, score=0.734790 -   5.6s\n",
      "[CV] base_estimator__min_samples_split=3, n_estimators=100, learning_rate=1.5, base_estimator__max_depth=1 \n",
      "[CV]  base_estimator__min_samples_split=3, n_estimators=100, learning_rate=1.5, base_estimator__max_depth=1, score=0.749546 -   5.5s\n",
      "[CV] base_estimator__min_samples_split=3, n_estimators=500, learning_rate=1.5, base_estimator__max_depth=1 \n",
      "[CV]  base_estimator__min_samples_split=3, n_estimators=500, learning_rate=1, base_estimator__max_depth=1, score=0.752936 -  28.4s\n",
      "[CV] base_estimator__min_samples_split=3, n_estimators=500, learning_rate=1.5, base_estimator__max_depth=1 \n",
      "[CV]  base_estimator__min_samples_split=3, n_estimators=500, learning_rate=1, base_estimator__max_depth=1, score=0.743238 -  28.4s\n",
      "[CV] base_estimator__min_samples_split=3, n_estimators=500, learning_rate=1.5, base_estimator__max_depth=1 \n",
      "[CV]  base_estimator__min_samples_split=3, n_estimators=500, learning_rate=1, base_estimator__max_depth=1, score=0.754026 -  27.9s\n",
      "[CV] base_estimator__min_samples_split=3, n_estimators=100, learning_rate=0.5, base_estimator__max_depth=1 \n",
      "[CV]  base_estimator__min_samples_split=3, n_estimators=100, learning_rate=0.5, base_estimator__max_depth=1, score=0.734831 -   5.6s\n",
      "[CV] base_estimator__min_samples_split=3, n_estimators=100, learning_rate=0.5, base_estimator__max_depth=1 \n"
     ]
    },
    {
     "name": "stderr",
     "output_type": "stream",
     "text": [
      "[Parallel(n_jobs=-1)]: Done  64 tasks      | elapsed:  7.3min\n"
     ]
    },
    {
     "name": "stdout",
     "output_type": "stream",
     "text": [
      "[CV]  base_estimator__min_samples_split=3, n_estimators=100, learning_rate=0.5, base_estimator__max_depth=1, score=0.732796 -   5.4s\n",
      "[CV] base_estimator__min_samples_split=3, n_estimators=100, learning_rate=0.5, base_estimator__max_depth=1 \n",
      "[CV]  base_estimator__min_samples_split=3, n_estimators=100, learning_rate=0.5, base_estimator__max_depth=1, score=0.731952 -   5.3s\n",
      "[CV] base_estimator__min_samples_split=3, n_estimators=500, learning_rate=0.5, base_estimator__max_depth=1 \n",
      "[CV]  base_estimator__min_samples_split=3, n_estimators=500, learning_rate=1.5, base_estimator__max_depth=1, score=0.753759 -  28.3s\n",
      "[CV] base_estimator__min_samples_split=3, n_estimators=500, learning_rate=0.5, base_estimator__max_depth=1 \n",
      "[CV]  base_estimator__min_samples_split=3, n_estimators=500, learning_rate=1.5, base_estimator__max_depth=1, score=0.744843 -  27.3s\n",
      "[CV] base_estimator__min_samples_split=3, n_estimators=500, learning_rate=0.5, base_estimator__max_depth=1 \n",
      "[CV]  base_estimator__min_samples_split=3, n_estimators=500, learning_rate=1.5, base_estimator__max_depth=1, score=0.754550 -  28.4s\n",
      "[CV]  base_estimator__min_samples_split=3, n_estimators=500, learning_rate=0.5, base_estimator__max_depth=1, score=0.746822 -  19.9s\n",
      "[CV]  base_estimator__min_samples_split=3, n_estimators=500, learning_rate=0.5, base_estimator__max_depth=1, score=0.741028 -  25.5s\n",
      "[CV]  base_estimator__min_samples_split=3, n_estimators=500, learning_rate=0.5, base_estimator__max_depth=1, score=0.747889 -  22.9s\n"
     ]
    },
    {
     "name": "stderr",
     "output_type": "stream",
     "text": [
      "[Parallel(n_jobs=-1)]: Done  72 out of  72 | elapsed:  8.0min finished\n"
     ]
    },
    {
     "name": "stdout",
     "output_type": "stream",
     "text": [
      "Unoptimized model\n",
      "------\n",
      "Accuracy score on testing data: 0.8358\n",
      "F-score on testing data: 0.6654\n",
      "\n",
      "Optimized Model\n",
      "------\n",
      "Final accuracy score on the testing data: 0.8677\n",
      "Final F-score on the testing data: 0.7452\n"
     ]
    }
   ],
   "source": [
    "# TODO: Import 'GridSearchCV', 'make_scorer', and any other necessary libraries\n",
    "from sklearn.grid_search import GridSearchCV\n",
    "from sklearn.metrics import make_scorer\n",
    "\n",
    "random_state = 1\n",
    "\n",
    "\n",
    "# # TODO: Initialize the classifier\n",
    "# clf = DecisionTreeClassifier(random_state= random_state)\n",
    "\n",
    "# # TODO: Create the parameters list you wish to tune, using a dictionary if needed.\n",
    "# # HINT: parameters = {'parameter_1': [value1, value2], 'parameter_2': [value1, value2]}\n",
    "\n",
    "dt = DecisionTreeClassifier(random_state=random_state)\n",
    "clf = AdaBoostClassifier(base_estimator=dt ,random_state=random_state)\n",
    "parameters = {\n",
    "    'base_estimator__max_depth' : [3,1], #default is 3\n",
    "    'base_estimator__min_samples_split' : [2,3], #default is 2,\n",
    "    'n_estimators' : [100,500],  #default is 50\n",
    "    'learning_rate' : [1,1.5,0.5] #default is 1\n",
    "}\n",
    "\n",
    "# TODO: Make an fbeta_score scoring object using make_scorer()\n",
    "scorer = make_scorer(fbeta_score, beta=0.5)\n",
    "\n",
    "# TODO: Perform grid search on the classifier using 'scorer' as the scoring method using GridSearchCV()\n",
    "grid_obj = GridSearchCV(clf,param_grid = parameters, scoring = scorer, n_jobs=-1, verbose=5)\n",
    "\n",
    "# TODO: Fit the grid search object to the training data and find the optimal parameters using fit()\n",
    "grid_fit = grid_obj.fit(X_train,y_train)\n",
    "\n",
    "# Get the estimator\n",
    "best_clf = grid_fit.best_estimator_\n",
    "\n",
    "# Make predictions using the unoptimized and model\n",
    "predictions = (clf.fit(X_train, y_train)).predict(X_test)\n",
    "best_predictions = best_clf.predict(X_test)\n",
    "\n",
    "# Report the before-and-afterscores\n",
    "print (\"Unoptimized model\\n------\")\n",
    "print (\"Accuracy score on testing data: {:.4f}\".format(accuracy_score(y_test, predictions)))\n",
    "print (\"F-score on testing data: {:.4f}\".format(fbeta_score(y_test, predictions, beta = 0.5)))\n",
    "print (\"\\nOptimized Model\\n------\")\n",
    "print (\"Final accuracy score on the testing data: {:.4f}\".format(accuracy_score(y_test, best_predictions)))\n",
    "print (\"Final F-score on the testing data: {:.4f}\".format(fbeta_score(y_test, best_predictions, beta = 0.5)))"
   ]
  },
  {
   "cell_type": "code",
   "execution_count": 44,
   "metadata": {},
   "outputs": [
    {
     "name": "stdout",
     "output_type": "stream",
     "text": [
      "{'base_estimator__min_samples_split': 2, 'n_estimators': 500, 'learning_rate': 1.5, 'base_estimator__max_depth': 1}\n",
      "0.7510508023857382\n"
     ]
    }
   ],
   "source": [
    "#print(grid_obj.estimator.get_params().keys())\n",
    "\n",
    "print(grid_obj.best_params_)\n",
    "print(grid_obj.best_score_)"
   ]
  },
  {
   "cell_type": "code",
   "execution_count": 45,
   "metadata": {},
   "outputs": [
    {
     "data": {
      "text/plain": [
       "AdaBoostClassifier(algorithm='SAMME.R',\n",
       "          base_estimator=DecisionTreeClassifier(class_weight=None, criterion='gini', max_depth=None,\n",
       "            max_features=None, max_leaf_nodes=None,\n",
       "            min_impurity_decrease=0.0, min_impurity_split=None,\n",
       "            min_samples_leaf=1, min_samples_split=2,\n",
       "            min_weight_fraction_leaf=0.0, presort=False, random_state=1,\n",
       "            splitter='best'),\n",
       "          learning_rate=1.0, n_estimators=50, random_state=1)"
      ]
     },
     "execution_count": 45,
     "metadata": {},
     "output_type": "execute_result"
    }
   ],
   "source": [
    "clf"
   ]
  },
  {
   "cell_type": "code",
   "execution_count": 47,
   "metadata": {},
   "outputs": [
    {
     "data": {
      "text/plain": [
       "AdaBoostClassifier(algorithm='SAMME.R',\n",
       "          base_estimator=DecisionTreeClassifier(class_weight=None, criterion='gini', max_depth=1,\n",
       "            max_features=None, max_leaf_nodes=None,\n",
       "            min_impurity_decrease=0.0, min_impurity_split=None,\n",
       "            min_samples_leaf=1, min_samples_split=2,\n",
       "            min_weight_fraction_leaf=0.0, presort=False, random_state=1,\n",
       "            splitter='best'),\n",
       "          learning_rate=1.5, n_estimators=500, random_state=1)"
      ]
     },
     "execution_count": 47,
     "metadata": {},
     "output_type": "execute_result"
    }
   ],
   "source": [
    "best_clf"
   ]
  },
  {
   "cell_type": "code",
   "execution_count": null,
   "metadata": {
    "collapsed": true
   },
   "outputs": [],
   "source": []
  },
  {
   "cell_type": "markdown",
   "metadata": {},
   "source": [
    "### Question 5 - Final Model Evaluation\n",
    "\n",
    "* What is your optimized model's accuracy and F-score on the testing data? \n",
    "* Are these scores better or worse than the unoptimized model? \n",
    "* How do the results from your optimized model compare to the naive predictor benchmarks you found earlier in **Question 1**?_  \n",
    "\n",
    "**Note:** Fill in the table below with your results, and then provide discussion in the **Answer** box."
   ]
  },
  {
   "cell_type": "markdown",
   "metadata": {},
   "source": [
    "#### Results:\n",
    "\n",
    "|     Metric     | Unoptimized Model | Optimized Model |\n",
    "| :------------: | :---------------: | :-------------: | \n",
    "| Accuracy Score |        0.8358     |     0.8677      |\n",
    "| F-score        |        0.6654     |   0.7452        |\n"
   ]
  },
  {
   "cell_type": "markdown",
   "metadata": {},
   "source": [
    "**Answer: ** \n",
    "\n",
    "    1. Optimized model accuracy is 0.8677 and F-score is 0.7452\n",
    "    2. These scores are better than the unoptimized model\n",
    "    3. Optimized model results are much much better than the naive predictor benchmarks result. \n",
    "       F-Scores has been imporved from 0.29 to 0.74"
   ]
  },
  {
   "cell_type": "code",
   "execution_count": null,
   "metadata": {
    "collapsed": true
   },
   "outputs": [],
   "source": []
  },
  {
   "cell_type": "markdown",
   "metadata": {},
   "source": [
    "----\n",
    "## Feature Importance\n",
    "\n",
    "An important task when performing supervised learning on a dataset like the census data we study here is determining which features provide the most predictive power. By focusing on the relationship between only a few crucial features and the target label we simplify our understanding of the phenomenon, which is most always a useful thing to do. In the case of this project, that means we wish to identify a small number of features that most strongly predict whether an individual makes at most or more than \\$50,000.\n",
    "\n",
    "Choose a scikit-learn classifier (e.g., adaboost, random forests) that has a `feature_importance_` attribute, which is a function that ranks the importance of features according to the chosen classifier.  In the next python cell fit this classifier to training set and use this attribute to determine the top 5 most important features for the census dataset."
   ]
  },
  {
   "cell_type": "markdown",
   "metadata": {},
   "source": [
    "### Question 6 - Feature Relevance Observation\n",
    "When **Exploring the Data**, it was shown there are thirteen available features for each individual on record in the census data. Of these thirteen records, which five features do you believe to be most important for prediction, and in what order would you rank them and why?"
   ]
  },
  {
   "cell_type": "markdown",
   "metadata": {},
   "source": [
    "**Answer:**\n",
    "\n",
    "    Selected features according to their ranks are :-\n",
    "\n",
    "    1. Age: \n",
    "\t\tAge will be best feature for the prediciton. Definitely teenagers earns less compare to senior guys. \n",
    "        There can be few outilers. \n",
    "\n",
    "\t2. education-num:\n",
    "\t\tSecond best feature is education-num. Higher number of education can easily relate with higher income.\n",
    "\t\n",
    "\t3. occupation:\n",
    "\t\toccupation will be next suitable feature. Because income clearly depends on the type of work occupation. Example: accountant income will be less compare to any sports person.\n",
    "\n",
    "\t4. workclass:\n",
    "\t\tI will pick workclass for next. For example definitely there will be salary difference between Private and Government employees.\n",
    "\n",
    "\t5. hours-per-week:\n",
    "\t\thours-per-week will be a good feature too, higher working hours can have good relationship with the higher income.\t\n",
    "\n"
   ]
  },
  {
   "cell_type": "markdown",
   "metadata": {},
   "source": [
    "### Implementation - Extracting Feature Importance\n",
    "Choose a `scikit-learn` supervised learning algorithm that has a `feature_importance_` attribute availble for it. This attribute is a function that ranks the importance of each feature when making predictions based on the chosen algorithm.\n",
    "\n",
    "In the code cell below, you will need to implement the following:\n",
    " - Import a supervised learning model from sklearn if it is different from the three used earlier.\n",
    " - Train the supervised model on the entire training set.\n",
    " - Extract the feature importances using `'.feature_importances_'`."
   ]
  },
  {
   "cell_type": "code",
   "execution_count": 48,
   "metadata": {},
   "outputs": [
    {
     "data": {
      "image/png": "[encoded data removed]",
      "text/plain": [
       "<matplotlib.figure.Figure at 0x7f39ce3e0278>"
      ]
     },
     "metadata": {},
     "output_type": "display_data"
    }
   ],
   "source": [
    "# TODO: Import a supervised learning model that has 'feature_importances_'\n",
    "from sklearn.ensemble import AdaBoostClassifier\n",
    "\n",
    "# TODO: Train the supervised model on the training set using .fit(X_train, y_train)\n",
    "sTime = time()\n",
    "model = AdaBoostClassifier(random_state = 1).fit(X_train,y_train)\n",
    "eTime = time()\n",
    "\n",
    "all_features_training_time = eTime - sTime\n",
    "# TODO: Extract the feature importances using .feature_importances_ \n",
    "importances = model.feature_importances_\n",
    "\n",
    "# Plot\n",
    "vs.feature_plot(importances, X_train, y_train)"
   ]
  },
  {
   "cell_type": "markdown",
   "metadata": {},
   "source": [
    "### Question 7 - Extracting Feature Importance\n",
    "\n",
    "Observe the visualization created above which displays the five most relevant features for predicting if an individual makes at most or above \\$50,000.  \n",
    "* How do these five features compare to the five features you discussed in **Question 6**?\n",
    "* If you were close to the same answer, how does this visualization confirm your thoughts? \n",
    "* If you were not close, why do you think these features are more relevant?"
   ]
  },
  {
   "cell_type": "markdown",
   "metadata": {},
   "source": [
    "**Answer:**\n",
    "\n",
    "    My thoughts are close to these best features but they also slightly varies inorder of there ranks.\n",
    "    From the visualization it's clear that capital-loss and capital-gain could provide better insight compared to occupation and workclass.\n",
    "    \n",
    "    capital-loss is important because this a clear sign of decrease in person's income/assets.\n",
    "    \n",
    "    capital-gain is also very important because the more income a person has, the more assets they have to invest and earn capital gains.\n",
    "    \n",
    "    I should have considered capital-loss and capital-gain in top five features.\n",
    "    \n",
    "    \n",
    "    "
   ]
  },
  {
   "cell_type": "markdown",
   "metadata": {},
   "source": [
    "### Feature Selection\n",
    "How does a model perform if we only use a subset of all the available features in the data? With less features required to train, the expectation is that training and prediction time is much lower — at the cost of performance metrics. From the visualization above, we see that the top five most important features contribute more than half of the importance of **all** features present in the data. This hints that we can attempt to *reduce the feature space* and simplify the information required for the model to learn. The code cell below will use the same optimized model you found earlier, and train it on the same training set *with only the top five important features*. "
   ]
  },
  {
   "cell_type": "code",
   "execution_count": 49,
   "metadata": {},
   "outputs": [
    {
     "name": "stdout",
     "output_type": "stream",
     "text": [
      "Final Model trained on full data\n",
      "------\n",
      "Accuracy on testing data: 0.8677\n",
      "F-score on testing data: 0.7452\n",
      "\n",
      "Final Model trained on reduced data\n",
      "------\n",
      "Accuracy on testing data: 0.8421\n",
      "F-score on testing data: 0.7003\n"
     ]
    }
   ],
   "source": [
    "# Import functionality for cloning a model\n",
    "from sklearn.base import clone\n",
    "\n",
    "# Reduce the feature space\n",
    "X_train_reduced = X_train[X_train.columns.values[(np.argsort(importances)[::-1])[:5]]]\n",
    "X_test_reduced = X_test[X_test.columns.values[(np.argsort(importances)[::-1])[:5]]]\n",
    "\n",
    "# Train on the \"best\" model found from grid search earlier\n",
    "sTime = time()\n",
    "clf = (clone(best_clf)).fit(X_train_reduced, y_train)\n",
    "eTime = time()\n",
    "topFive_training_time = eTime - sTime\n",
    "\n",
    "# Make new predictions\n",
    "reduced_predictions = clf.predict(X_test_reduced)\n",
    "\n",
    "# Report scores from the final model using both versions of data\n",
    "print (\"Final Model trained on full data\\n------\")\n",
    "print (\"Accuracy on testing data: {:.4f}\".format(accuracy_score(y_test, best_predictions)))\n",
    "print (\"F-score on testing data: {:.4f}\".format(fbeta_score(y_test, best_predictions, beta = 0.5)))\n",
    "print (\"\\nFinal Model trained on reduced data\\n------\")\n",
    "print (\"Accuracy on testing data: {:.4f}\".format(accuracy_score(y_test, reduced_predictions)))\n",
    "print (\"F-score on testing data: {:.4f}\".format(fbeta_score(y_test, reduced_predictions, beta = 0.5)))"
   ]
  },
  {
   "cell_type": "code",
   "execution_count": 54,
   "metadata": {},
   "outputs": [
    {
     "name": "stdout",
     "output_type": "stream",
     "text": [
      "all_features_training_time:  1.7114448547363281\n",
      "topFive_training_time 6.9282386302948\n",
      "Reduction in Accuracy:  2.5600000000000067\n",
      "Reduction in F-Score:  4.489999999999994\n"
     ]
    }
   ],
   "source": [
    "print(\"all_features_training_time: \",all_features_training_time)\n",
    "print(\"topFive_training_time\", topFive_training_time)\n",
    "\n",
    "print(\"Reduction in Accuracy: \",(0.8677 -  0.8421) * 100 )\n",
    "print(\"Reduction in F-Score: \", (0.7452 - 0.7003) * 100)"
   ]
  },
  {
   "cell_type": "markdown",
   "metadata": {},
   "source": [
    "### Question 8 - Effects of Feature Selection\n",
    "\n",
    "* How does the final model's F-score and accuracy score on the reduced data using only five features compare to those same scores when all features are used?\n",
    "* If training time was a factor, would you consider using the reduced data as your training set?"
   ]
  },
  {
   "cell_type": "markdown",
   "metadata": {},
   "source": [
    "**Answer:**\n",
    "\n",
    "    F-score and accuracy score got reduced on the data using only five features\n",
    "    Accuracy reduced by : 2.56%\n",
    "    F-score reduced by  : 4.489%\n",
    "    \n",
    "    If training time was a factor, i would not reduce training data because F-score is reduced by 4.489%.\n",
    "    \n",
    "    But reducing training data is also depends on the situations. \n",
    "        Lets assume if I am competing in a ML contest where we have enough time to train/develop ML model. In this situation I don't want to reduce F-score , because 4.489% can make a huge difference on the leaderboard. \n",
    "        But If contest have very strict timeline for model training/develpment , in this situation learing model faster definitely will be helpful.\n",
    "    "
   ]
  },
  {
   "cell_type": "markdown",
   "metadata": {},
   "source": [
    "> **Note**: Once you have completed all of the code implementations and successfully answered each question above, you may finalize your work by exporting the iPython Notebook as an HTML document. You can do this by using the menu above and navigating to  \n",
    "**File -> Download as -> HTML (.html)**. Include the finished document along with this notebook as your submission."
   ]
  },
  {
   "cell_type": "code",
   "execution_count": null,
   "metadata": {
    "collapsed": true
   },
   "outputs": [],
   "source": []
  }
 ],
 "metadata": {
  "kernelspec": {
   "display_name": "Python 3",
   "language": "python",
   "name": "python3"
  },
  "language_info": {
   "codemirror_mode": {
    "name": "ipython",
    "version": 3
   },
   "file_extension": ".py",
   "mimetype": "text/x-python",
   "name": "python",
   "nbconvert_exporter": "python",
   "pygments_lexer": "ipython3",
   "version": "3.5.4"
  }
 },
 "nbformat": 4,
 "nbformat_minor": 1
}
